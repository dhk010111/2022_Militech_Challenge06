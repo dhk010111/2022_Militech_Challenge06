{
  "cells": [
    {
      "cell_type": "markdown",
      "metadata": {
        "id": "9mSAocVMdTGj"
      },
      "source": [
        "# Classification model_YOLOv5"
      ]
    },
    {
      "cell_type": "code",
      "execution_count": null,
      "metadata": {
        "colab": {
          "base_uri": "https://localhost:8080/"
        },
        "id": "ev02sSAadQQl",
        "outputId": "e63ae393-4a70-4e49-da6f-8fbbf0a7c8a4"
      },
      "outputs": [
        {
          "output_type": "stream",
          "name": "stdout",
          "text": [
            "/content/drive/MyDrive/Militech22\n"
          ]
        }
      ],
      "source": [
        "%cd /content/drive/MyDrive/Militech22"
      ]
    },
    {
      "cell_type": "code",
      "execution_count": null,
      "metadata": {
        "colab": {
          "base_uri": "https://localhost:8080/"
        },
        "id": "TX8SXGPydnZk",
        "outputId": "2ac4bd5d-4553-4586-cc68-2824532f3e54"
      },
      "outputs": [
        {
          "name": "stderr",
          "output_type": "stream",
          "text": [
            "YOLOv5 🚀 v6.2-185-ge4398cf Python-3.7.14 torch-1.12.1+cu113 CUDA:0 (Tesla T4, 15110MiB)\n"
          ]
        },
        {
          "name": "stdout",
          "output_type": "stream",
          "text": [
            "Setup complete ✅ (2 CPUs, 12.7 GB RAM, 37.6/78.2 GB disk)\n"
          ]
        }
      ],
      "source": [
        "!git clone https://github.com/ultralytics/yolov5  # clone\n",
        "%cd yolov5\n",
        "%pip install -qr requirements.txt  # install\n",
        "\n",
        "import torch\n",
        "import utils\n",
        "display = utils.notebook_init()  # checks"
      ]
    },
    {
      "cell_type": "code",
      "execution_count": null,
      "metadata": {
        "colab": {
          "base_uri": "https://localhost:8080/",
          "height": 103,
          "referenced_widgets": [
            "29384cdd36ac47de86e1fc227f4f5b53",
            "f70c40bd961b4217bd00fb45c3838533",
            "d72f2355a159483c8baed0b41f8e3aef",
            "a904f5cd8f564ab58aab0ab3a8aa823f",
            "dd575e1bc5984859901339e3f3ccf4e0",
            "44c283a527574533bd2e1cd51bf416b8",
            "5bfd8dbbede8419fa57b69d2a8c7d420",
            "a5eff114af484d7a916725ccc42976d0",
            "84ed6080e2e04b1f8a1a33d10736b523",
            "fdc5c66aee5d443ebc7936e067ca590d",
            "1bf361a4bfb04aa6a66a8369feb42bb3"
          ]
        },
        "id": "VrNP1sckdqFG",
        "outputId": "2e079f54-152d-4db0-f29d-4bad527cfbb7"
      },
      "outputs": [
        {
          "name": "stderr",
          "output_type": "stream",
          "text": [
            "Downloading https://github.com/ultralytics/yolov5/releases/download/v6.2/yolov5s.pt to weights/yolov5s.pt...\n"
          ]
        },
        {
          "data": {
            "application/vnd.jupyter.widget-view+json": {
              "model_id": "29384cdd36ac47de86e1fc227f4f5b53",
              "version_major": 2,
              "version_minor": 0
            },
            "text/plain": [
              "  0%|          | 0.00/14.1M [00:00<?, ?B/s]"
            ]
          },
          "metadata": {},
          "output_type": "display_data"
        },
        {
          "name": "stderr",
          "output_type": "stream",
          "text": [
            "\n"
          ]
        },
        {
          "data": {
            "application/vnd.google.colaboratory.intrinsic+json": {
              "type": "string"
            },
            "text/plain": [
              "'weights/yolov5s.pt'"
            ]
          },
          "execution_count": 3,
          "metadata": {},
          "output_type": "execute_result"
        }
      ],
      "source": [
        "from utils.downloads import attempt_download\n",
        "\n",
        "attempt_download(f'weights/yolov5s.pt')"
      ]
    },
    {
      "cell_type": "markdown",
      "metadata": {
        "id": "pbyuhhq4d8xS"
      },
      "source": [
        "## Import datset"
      ]
    },
    {
      "cell_type": "code",
      "execution_count": null,
      "metadata": {
        "colab": {
          "base_uri": "https://localhost:8080/"
        },
        "id": "UwMPe6Fwd3WB",
        "outputId": "bac2fc08-5a8d-4258-b977-c6f0cd78e2ec"
      },
      "outputs": [
        {
          "name": "stdout",
          "output_type": "stream",
          "text": [
            "/content/drive/MyDrive/Militech22/datasets\n"
          ]
        }
      ],
      "source": [
        "# Ensure we're in the right directory to download our custom dataset\n",
        "import os\n",
        "os.makedirs(\"../datasets/\", exist_ok=True)\n",
        "%cd ../datasets/"
      ]
    },
    {
      "cell_type": "code",
      "execution_count": null,
      "metadata": {
        "colab": {
          "base_uri": "https://localhost:8080/",
          "height": 1000
        },
        "id": "SCq2YGUseCh1",
        "outputId": "91e0dbae-d9bc-4898-f4cb-19db3ef8a854"
      },
      "outputs": [
        {
          "name": "stdout",
          "output_type": "stream",
          "text": [
            "Looking in indexes: https://pypi.org/simple, https://us-python.pkg.dev/colab-wheels/public/simple/\n",
            "Collecting roboflow\n",
            "  Downloading roboflow-0.2.15.tar.gz (18 kB)\n",
            "Collecting certifi==2021.5.30\n",
            "  Downloading certifi-2021.5.30-py2.py3-none-any.whl (145 kB)\n",
            "\u001b[K     |████████████████████████████████| 145 kB 45.8 MB/s \n",
            "\u001b[?25hCollecting chardet==4.0.0\n",
            "  Downloading chardet-4.0.0-py2.py3-none-any.whl (178 kB)\n",
            "\u001b[K     |████████████████████████████████| 178 kB 70.3 MB/s \n",
            "\u001b[?25hCollecting cycler==0.10.0\n",
            "  Downloading cycler-0.10.0-py2.py3-none-any.whl (6.5 kB)\n",
            "Requirement already satisfied: glob2 in /usr/local/lib/python3.7/dist-packages (from roboflow) (0.7)\n",
            "Requirement already satisfied: idna==2.10 in /usr/local/lib/python3.7/dist-packages (from roboflow) (2.10)\n",
            "Collecting kiwisolver==1.3.1\n",
            "  Downloading kiwisolver-1.3.1-cp37-cp37m-manylinux1_x86_64.whl (1.1 MB)\n",
            "\u001b[K     |████████████████████████████████| 1.1 MB 55.3 MB/s \n",
            "\u001b[?25hRequirement already satisfied: matplotlib in /usr/local/lib/python3.7/dist-packages (from roboflow) (3.2.2)\n",
            "Requirement already satisfied: numpy>=1.18.5 in /usr/local/lib/python3.7/dist-packages (from roboflow) (1.21.6)\n",
            "Requirement already satisfied: opencv-python-headless>=4.5.1.48 in /usr/local/lib/python3.7/dist-packages (from roboflow) (4.6.0.66)\n",
            "Requirement already satisfied: Pillow>=7.1.2 in /usr/local/lib/python3.7/dist-packages (from roboflow) (7.1.2)\n",
            "Collecting pyparsing==2.4.7\n",
            "  Downloading pyparsing-2.4.7-py2.py3-none-any.whl (67 kB)\n",
            "\u001b[K     |████████████████████████████████| 67 kB 6.3 MB/s \n",
            "\u001b[?25hRequirement already satisfied: python-dateutil in /usr/local/lib/python3.7/dist-packages (from roboflow) (2.8.2)\n",
            "Collecting python-dotenv\n",
            "  Downloading python_dotenv-0.21.0-py3-none-any.whl (18 kB)\n",
            "Requirement already satisfied: requests in /usr/local/lib/python3.7/dist-packages (from roboflow) (2.23.0)\n",
            "Collecting requests_toolbelt\n",
            "  Downloading requests_toolbelt-0.9.1-py2.py3-none-any.whl (54 kB)\n",
            "\u001b[K     |████████████████████████████████| 54 kB 3.1 MB/s \n",
            "\u001b[?25hRequirement already satisfied: six in /usr/local/lib/python3.7/dist-packages (from roboflow) (1.15.0)\n",
            "Collecting urllib3==1.26.6\n",
            "  Downloading urllib3-1.26.6-py2.py3-none-any.whl (138 kB)\n",
            "\u001b[K     |████████████████████████████████| 138 kB 71.6 MB/s \n",
            "\u001b[?25hCollecting wget\n",
            "  Downloading wget-3.2.zip (10 kB)\n",
            "Requirement already satisfied: tqdm>=4.41.0 in /usr/local/lib/python3.7/dist-packages (from roboflow) (4.64.1)\n",
            "Requirement already satisfied: PyYAML>=5.3.1 in /usr/local/lib/python3.7/dist-packages (from roboflow) (6.0)\n",
            "Collecting requests\n",
            "  Downloading requests-2.28.1-py3-none-any.whl (62 kB)\n",
            "\u001b[K     |████████████████████████████████| 62 kB 1.3 MB/s \n",
            "\u001b[?25hRequirement already satisfied: charset-normalizer<3,>=2 in /usr/local/lib/python3.7/dist-packages (from requests->roboflow) (2.1.1)\n",
            "Building wheels for collected packages: roboflow, wget\n",
            "  Building wheel for roboflow (setup.py) ... \u001b[?25l\u001b[?25hdone\n",
            "  Created wheel for roboflow: filename=roboflow-0.2.15-py3-none-any.whl size=24936 sha256=9d9bf0c9451c21e237629c5e875ebe8d11caed382aeb2c2bb6edc02ed32f9cf1\n",
            "  Stored in directory: /root/.cache/pip/wheels/13/e0/a3/fe183fffc3972cb9264e800763d4bbfff80d5309137c410217\n",
            "  Building wheel for wget (setup.py) ... \u001b[?25l\u001b[?25hdone\n",
            "  Created wheel for wget: filename=wget-3.2-py3-none-any.whl size=9675 sha256=bd45f7896c3799c08680af12435d48535c7e885a2df23002e73cbfcc2fd7effc\n",
            "  Stored in directory: /root/.cache/pip/wheels/a1/b6/7c/0e63e34eb06634181c63adacca38b79ff8f35c37e3c13e3c02\n",
            "Successfully built roboflow wget\n",
            "Installing collected packages: urllib3, certifi, requests, pyparsing, kiwisolver, cycler, wget, requests-toolbelt, python-dotenv, chardet, roboflow\n",
            "  Attempting uninstall: urllib3\n",
            "    Found existing installation: urllib3 1.24.3\n",
            "    Uninstalling urllib3-1.24.3:\n",
            "      Successfully uninstalled urllib3-1.24.3\n",
            "  Attempting uninstall: certifi\n",
            "    Found existing installation: certifi 2022.6.15\n",
            "    Uninstalling certifi-2022.6.15:\n",
            "      Successfully uninstalled certifi-2022.6.15\n",
            "  Attempting uninstall: requests\n",
            "    Found existing installation: requests 2.23.0\n",
            "    Uninstalling requests-2.23.0:\n",
            "      Successfully uninstalled requests-2.23.0\n",
            "  Attempting uninstall: pyparsing\n",
            "    Found existing installation: pyparsing 3.0.9\n",
            "    Uninstalling pyparsing-3.0.9:\n",
            "      Successfully uninstalled pyparsing-3.0.9\n",
            "  Attempting uninstall: kiwisolver\n",
            "    Found existing installation: kiwisolver 1.4.4\n",
            "    Uninstalling kiwisolver-1.4.4:\n",
            "      Successfully uninstalled kiwisolver-1.4.4\n",
            "  Attempting uninstall: cycler\n",
            "    Found existing installation: cycler 0.11.0\n",
            "    Uninstalling cycler-0.11.0:\n",
            "      Successfully uninstalled cycler-0.11.0\n",
            "  Attempting uninstall: chardet\n",
            "    Found existing installation: chardet 3.0.4\n",
            "    Uninstalling chardet-3.0.4:\n",
            "      Successfully uninstalled chardet-3.0.4\n",
            "Successfully installed certifi-2021.5.30 chardet-4.0.0 cycler-0.10.0 kiwisolver-1.3.1 pyparsing-2.4.7 python-dotenv-0.21.0 requests-2.28.1 requests-toolbelt-0.9.1 roboflow-0.2.15 urllib3-1.26.6 wget-3.2\n"
          ]
        },
        {
          "data": {
            "application/vnd.colab-display-data+json": {
              "pip_warning": {
                "packages": [
                  "certifi",
                  "chardet",
                  "cycler",
                  "kiwisolver",
                  "pyparsing",
                  "requests",
                  "urllib3"
                ]
              }
            }
          },
          "metadata": {},
          "output_type": "display_data"
        },
        {
          "name": "stdout",
          "output_type": "stream",
          "text": [
            "loading Roboflow workspace...\n",
            "loading Roboflow project...\n",
            "Downloading Dataset Version Zip in dataset-3 to folder: 100% [159594476 / 159594476] bytes\n"
          ]
        },
        {
          "name": "stderr",
          "output_type": "stream",
          "text": [
            "Extracting Dataset Version Zip to dataset-3 in folder:: 100%|██████████| 10006/10006 [01:03<00:00, 157.20it/s]\n"
          ]
        }
      ],
      "source": [
        "!pip install roboflow\n",
        "\n",
        "from roboflow import Roboflow\n",
        "rf = Roboflow(api_key=\"GKcwAymX3bph4r5Kg8Yj\")\n",
        "project = rf.workspace(\"dataset-iufub\").project(\"dataset-corfi\")\n",
        "dataset = project.version(3).download(\"folder\")"
      ]
    },
    {
      "cell_type": "code",
      "execution_count": null,
      "metadata": {
        "id": "GSZImQpSeXU3"
      },
      "outputs": [],
      "source": [
        "#Save the dataset name to the environment so we can use it in a system call later\n",
        "dataset_name = dataset.location.split(os.sep)[-1]\n",
        "os.environ[\"DATASET_NAME\"] = dataset_name"
      ]
    },
    {
      "cell_type": "code",
      "execution_count": null,
      "metadata": {
        "colab": {
          "base_uri": "https://localhost:8080/"
        },
        "id": "YRovnAWTee47",
        "outputId": "b5ff62be-703e-42de-f3b2-1f71a55e7d9f"
      },
      "outputs": [
        {
          "name": "stdout",
          "output_type": "stream",
          "text": [
            "dataset-3\n"
          ]
        }
      ],
      "source": [
        "!echo $DATASET_NAME"
      ]
    },
    {
      "cell_type": "code",
      "execution_count": null,
      "metadata": {
        "colab": {
          "base_uri": "https://localhost:8080/"
        },
        "id": "NAY4ZOuee-w6",
        "outputId": "8e8fcae0-15ea-425a-eb07-c97d7065f5d7"
      },
      "outputs": [
        {
          "name": "stdout",
          "output_type": "stream",
          "text": [
            "[Errno 2] No such file or directory: 'yolov5'\n",
            "/content/drive/MyDrive/Militech22/yolov5\n",
            "benchmarks.py    detect.py   \u001b[0m\u001b[01;34mmodels\u001b[0m/           setup.cfg       val.py\n",
            "\u001b[01;34mclassify\u001b[0m/        export.py   README.md         train.py        \u001b[01;34mweights\u001b[0m/\n",
            "CONTRIBUTING.md  hubconf.py  requirements.txt  tutorial.ipynb\n",
            "\u001b[01;34mdata\u001b[0m/            LICENSE     \u001b[01;34msegment\u001b[0m/          \u001b[01;34mutils\u001b[0m/\n"
          ]
        }
      ],
      "source": [
        "%cd yolov5\n",
        "%ls"
      ]
    },
    {
      "cell_type": "code",
      "execution_count": null,
      "metadata": {
        "colab": {
          "base_uri": "https://localhost:8080/"
        },
        "id": "SuqjXynqfAtG",
        "outputId": "3d68ff15-87e5-4000-e723-94c55b0184e2"
      },
      "outputs": [
        {
          "name": "stdout",
          "output_type": "stream",
          "text": [
            "\u001b[34m\u001b[1mclassify/train: \u001b[0mmodel=yolov5s-cls.pt, data=./dataset-3, epochs=100, batch_size=64, imgsz=350, nosave=False, cache=None, device=, workers=8, project=runs/train-cls, name=exp, exist_ok=False, pretrained=weights/yolov5s-cls.pt, optimizer=Adam, lr0=0.001, decay=5e-05, label_smoothing=0.1, cutoff=None, dropout=None, verbose=False, seed=0, local_rank=-1\n",
            "\u001b[34m\u001b[1mgithub: \u001b[0mup to date with https://github.com/ultralytics/yolov5 ✅\n",
            "YOLOv5 🚀 v6.2-185-ge4398cf Python-3.7.14 torch-1.12.1+cu113 CUDA:0 (Tesla T4, 15110MiB)\n",
            "\n",
            "\u001b[34m\u001b[1mTensorBoard: \u001b[0mStart with 'tensorboard --logdir runs/train-cls', view at http://localhost:6006/\n",
            "\u001b[34m\u001b[1malbumentations: \u001b[0mRandomResizedCrop(p=1.0, height=350, width=350, scale=(0.08, 1.0), ratio=(0.75, 1.3333333333333333), interpolation=1), HorizontalFlip(p=0.5), ColorJitter(p=0.5, brightness=[0.6, 1.4], contrast=[0.6, 1.4], saturation=[0.6, 1.4], hue=[0, 0]), Normalize(p=1.0, mean=(0.485, 0.456, 0.406), std=(0.229, 0.224, 0.225), max_pixel_value=255.0), ToTensorV2(always_apply=True, p=1.0, transpose_mask=False)\n",
            "Model summary: 149 layers, 4175042 parameters, 4175042 gradients, 10.5 GFLOPs\n",
            "\u001b[34m\u001b[1moptimizer:\u001b[0m Adam(lr=0.001) with parameter groups 32 weight(decay=0.0), 33 weight(decay=5e-05), 33 bias\n",
            "Image sizes 350 train, 350 test\n",
            "Using 1 dataloader workers\n",
            "Logging results to \u001b[1mruns/train-cls/exp2\u001b[0m\n",
            "Starting yolov5s-cls.pt training on dataset-3 dataset with 2 classes for 100 epochs...\n",
            "\n",
            "     Epoch   GPU_mem  train_loss   test_loss    top1_acc    top5_acc\n",
            "     1/100     3.26G       0.575       0.578       0.689           1: 100% 110/110 [01:00<00:00,  1.81it/s]\n",
            "     2/100     3.98G       0.477        2.62       0.618           1: 100% 110/110 [01:01<00:00,  1.79it/s]\n",
            "     3/100     3.98G       0.459        0.39       0.879           1: 100% 110/110 [01:01<00:00,  1.79it/s]\n",
            "     4/100     3.98G       0.438       0.377       0.896           1: 100% 110/110 [01:01<00:00,  1.79it/s]\n",
            "     5/100     3.98G        0.43       0.427       0.871           1: 100% 110/110 [01:01<00:00,  1.79it/s]\n",
            "     6/100     3.98G        0.42        0.29       0.957           1: 100% 110/110 [01:01<00:00,  1.80it/s]\n",
            "     7/100     3.98G       0.424       0.365       0.911           1: 100% 110/110 [01:00<00:00,  1.81it/s]\n",
            "     8/100     3.98G       0.408       0.377       0.886           1: 100% 110/110 [01:01<00:00,  1.80it/s]\n",
            "     9/100     3.98G       0.399       0.335       0.916           1: 100% 110/110 [01:01<00:00,  1.79it/s]\n",
            "    10/100     3.98G       0.407       0.309       0.955           1: 100% 110/110 [01:01<00:00,  1.80it/s]\n",
            "    11/100     3.98G       0.396       0.273       0.979           1: 100% 110/110 [01:01<00:00,  1.79it/s]\n",
            "    12/100     3.98G        0.39       0.291       0.951           1: 100% 110/110 [01:01<00:00,  1.79it/s]\n",
            "    13/100     3.98G        0.39       0.283       0.977           1: 100% 110/110 [01:00<00:00,  1.82it/s]\n",
            "    14/100     3.98G       0.399       0.357       0.903           1: 100% 110/110 [01:01<00:00,  1.80it/s]\n",
            "    15/100     3.98G       0.387       0.262       0.977           1: 100% 110/110 [01:01<00:00,  1.80it/s]\n",
            "    16/100     3.98G       0.383       0.297       0.965           1: 100% 110/110 [01:00<00:00,  1.80it/s]\n",
            "    17/100     3.98G       0.388       0.321       0.935           1: 100% 110/110 [01:00<00:00,  1.81it/s]\n",
            "    18/100     3.98G        0.39       0.278       0.974           1: 100% 110/110 [01:00<00:00,  1.82it/s]\n",
            "    19/100     3.98G       0.373       0.364       0.919           1: 100% 110/110 [01:00<00:00,  1.81it/s]\n",
            "    20/100     3.98G       0.382       0.277       0.977           1: 100% 110/110 [01:01<00:00,  1.80it/s]\n",
            "    21/100     3.98G       0.375       0.271       0.971           1: 100% 110/110 [01:02<00:00,  1.77it/s]\n",
            "    22/100     3.98G       0.365       0.321       0.929           1: 100% 110/110 [01:00<00:00,  1.81it/s]\n",
            "    23/100     3.98G       0.371       0.366       0.911           1: 100% 110/110 [01:01<00:00,  1.80it/s]\n",
            "    24/100     3.98G       0.371       0.358       0.908           1: 100% 110/110 [01:01<00:00,  1.80it/s]\n",
            "    25/100     3.98G        0.38       0.276       0.958           1: 100% 110/110 [01:01<00:00,  1.80it/s]\n",
            "    26/100     3.98G       0.371       0.281       0.972           1: 100% 110/110 [01:01<00:00,  1.78it/s]\n",
            "    27/100     3.98G        0.37       0.263       0.969           1: 100% 110/110 [01:01<00:00,  1.78it/s]\n",
            "    28/100     3.98G       0.365       0.332       0.941           1: 100% 110/110 [01:01<00:00,  1.79it/s]\n",
            "    29/100     3.98G       0.369       0.311       0.966           1: 100% 110/110 [01:01<00:00,  1.79it/s]\n",
            "    30/100     3.98G       0.362       0.269       0.977           1: 100% 110/110 [01:01<00:00,  1.80it/s]\n",
            "    31/100     3.98G       0.365       0.274       0.974           1: 100% 110/110 [01:00<00:00,  1.82it/s]\n",
            "    32/100     3.98G       0.365       0.312       0.939           1: 100% 110/110 [01:00<00:00,  1.80it/s]\n",
            "    33/100     3.98G       0.367       0.258       0.967           1: 100% 110/110 [01:00<00:00,  1.81it/s]\n",
            "    34/100     3.98G       0.363       0.274       0.977           1: 100% 110/110 [01:01<00:00,  1.80it/s]\n",
            "    35/100     3.98G       0.355       0.258        0.98           1: 100% 110/110 [01:01<00:00,  1.80it/s]\n",
            "    36/100     3.98G       0.354        0.26       0.983           1: 100% 110/110 [01:00<00:00,  1.81it/s]\n",
            "    37/100     3.98G       0.359       0.277       0.985           1: 100% 110/110 [01:00<00:00,  1.82it/s]\n",
            "    38/100     3.98G        0.36       0.286       0.957           1: 100% 110/110 [01:00<00:00,  1.81it/s]\n",
            "    39/100     3.98G       0.349        0.27       0.978           1: 100% 110/110 [01:00<00:00,  1.81it/s]\n",
            "    40/100     3.98G       0.351       0.257       0.966           1: 100% 110/110 [01:00<00:00,  1.82it/s]\n",
            "    41/100     3.98G       0.353       0.272       0.983           1: 100% 110/110 [01:00<00:00,  1.83it/s]\n",
            "    42/100     3.98G       0.351        0.27       0.957           1: 100% 110/110 [01:00<00:00,  1.82it/s]\n",
            "    43/100     3.98G        0.35       0.275       0.979           1: 100% 110/110 [01:00<00:00,  1.81it/s]\n",
            "    44/100     3.98G       0.345       0.282       0.964           1: 100% 110/110 [01:00<00:00,  1.81it/s]\n",
            "    45/100     3.98G       0.354       0.271       0.971           1: 100% 110/110 [01:00<00:00,  1.81it/s]\n",
            "    46/100     3.98G       0.345       0.283       0.966           1: 100% 110/110 [01:00<00:00,  1.82it/s]\n",
            "    47/100     3.98G       0.343       0.254       0.965           1: 100% 110/110 [01:00<00:00,  1.82it/s]\n",
            "    48/100     3.98G       0.344       0.263       0.972           1: 100% 110/110 [01:00<00:00,  1.81it/s]\n",
            "    49/100     3.98G       0.341        0.25       0.982           1: 100% 110/110 [01:00<00:00,  1.82it/s]\n",
            "    50/100     3.98G       0.344       0.263       0.979           1: 100% 110/110 [01:00<00:00,  1.82it/s]\n",
            "    51/100     3.98G       0.338       0.263       0.958           1: 100% 110/110 [01:00<00:00,  1.82it/s]\n",
            "    52/100     3.98G        0.34       0.254       0.981           1: 100% 110/110 [01:00<00:00,  1.82it/s]\n",
            "    53/100     3.98G        0.34       0.254       0.982           1: 100% 110/110 [01:00<00:00,  1.82it/s]\n",
            "    54/100     3.98G       0.332       0.257       0.977           1: 100% 110/110 [01:00<00:00,  1.83it/s]\n",
            "    55/100     3.98G       0.335       0.265       0.976           1: 100% 110/110 [01:00<00:00,  1.82it/s]\n",
            "    56/100     3.98G       0.337       0.255       0.979           1: 100% 110/110 [01:00<00:00,  1.82it/s]\n",
            "    57/100     3.98G       0.335       0.251       0.978           1: 100% 110/110 [01:00<00:00,  1.81it/s]\n",
            "    58/100     3.98G       0.331       0.246       0.978           1: 100% 110/110 [01:01<00:00,  1.80it/s]\n",
            "    59/100     3.98G       0.331       0.251       0.978           1: 100% 110/110 [01:00<00:00,  1.81it/s]\n",
            "    60/100     3.98G        0.33       0.247       0.974           1: 100% 110/110 [01:00<00:00,  1.81it/s]\n",
            "    61/100     3.98G       0.329        0.25       0.976           1: 100% 110/110 [01:00<00:00,  1.81it/s]\n",
            "    62/100     3.98G       0.329        0.25       0.978           1: 100% 110/110 [01:00<00:00,  1.81it/s]\n",
            "    63/100     3.98G       0.326       0.251        0.97           1: 100% 110/110 [01:00<00:00,  1.81it/s]\n",
            "    64/100     3.98G       0.323       0.259       0.982           1: 100% 110/110 [01:00<00:00,  1.81it/s]\n",
            "    65/100     3.98G       0.327       0.245       0.982           1: 100% 110/110 [01:00<00:00,  1.81it/s]\n",
            "    66/100     3.98G       0.322       0.246       0.978           1: 100% 110/110 [01:00<00:00,  1.81it/s]\n",
            "    67/100     3.98G       0.322       0.248       0.969           1: 100% 110/110 [01:00<00:00,  1.82it/s]\n",
            "    68/100     3.98G       0.326       0.255       0.975           1: 100% 110/110 [01:00<00:00,  1.81it/s]\n",
            "    69/100     3.98G       0.314       0.245        0.97           1: 100% 110/110 [01:00<00:00,  1.82it/s]\n",
            "    70/100     3.98G        0.32       0.249       0.969           1: 100% 110/110 [01:01<00:00,  1.80it/s]\n",
            "    71/100     3.98G       0.315       0.251       0.971           1: 100% 110/110 [01:00<00:00,  1.81it/s]\n",
            "    72/100     3.98G       0.316       0.246        0.97           1: 100% 110/110 [01:00<00:00,  1.82it/s]\n",
            "    73/100     3.98G       0.316       0.246       0.973           1: 100% 110/110 [01:00<00:00,  1.81it/s]\n",
            "    74/100     3.98G       0.322       0.244       0.985           1: 100% 110/110 [01:00<00:00,  1.82it/s]\n",
            "    75/100     3.98G       0.309       0.241       0.977           1: 100% 110/110 [01:00<00:00,  1.81it/s]\n",
            "    76/100     3.98G       0.312       0.244       0.976           1: 100% 110/110 [01:00<00:00,  1.83it/s]\n",
            "    77/100     3.98G       0.312       0.241       0.984           1: 100% 110/110 [01:00<00:00,  1.82it/s]\n",
            "    78/100     3.98G       0.314       0.245       0.977           1: 100% 110/110 [01:00<00:00,  1.82it/s]\n",
            "    79/100     3.98G       0.308       0.244       0.976           1: 100% 110/110 [01:00<00:00,  1.82it/s]\n",
            "    80/100     3.98G       0.314       0.242       0.984           1: 100% 110/110 [01:00<00:00,  1.82it/s]\n",
            "    81/100     3.98G         0.3       0.243        0.98           1: 100% 110/110 [01:00<00:00,  1.82it/s]\n",
            "    82/100     3.98G       0.305       0.241       0.974           1: 100% 110/110 [01:00<00:00,  1.82it/s]\n",
            "    83/100     3.98G       0.302       0.243       0.975           1: 100% 110/110 [01:00<00:00,  1.81it/s]\n",
            "    84/100     3.98G       0.305       0.243       0.978           1: 100% 110/110 [01:00<00:00,  1.81it/s]\n",
            "    85/100     3.98G       0.304       0.241       0.984           1: 100% 110/110 [01:00<00:00,  1.81it/s]\n",
            "    86/100     3.98G         0.3        0.24        0.98           1: 100% 110/110 [01:00<00:00,  1.82it/s]\n",
            "    87/100     3.98G       0.299       0.241       0.977           1: 100% 110/110 [01:00<00:00,  1.82it/s]\n",
            "    88/100     3.98G       0.305       0.241       0.979           1: 100% 110/110 [01:00<00:00,  1.82it/s]\n",
            "    89/100     3.98G       0.299       0.241       0.978           1: 100% 110/110 [01:00<00:00,  1.83it/s]\n",
            "    90/100     3.98G       0.301       0.239       0.981           1: 100% 110/110 [01:00<00:00,  1.81it/s]\n",
            "    91/100     3.98G         0.3       0.239       0.985           1: 100% 110/110 [01:00<00:00,  1.82it/s]\n",
            "    92/100     3.98G         0.3       0.239       0.984           1: 100% 110/110 [01:00<00:00,  1.82it/s]\n",
            "    93/100     3.98G       0.294       0.237       0.985           1: 100% 110/110 [01:00<00:00,  1.83it/s]\n",
            "    94/100     3.98G        0.29       0.236       0.984           1: 100% 110/110 [01:00<00:00,  1.82it/s]\n",
            "    95/100     3.98G       0.291       0.238       0.984           1: 100% 110/110 [01:00<00:00,  1.83it/s]\n",
            "    96/100     3.98G       0.292       0.239       0.983           1: 100% 110/110 [01:00<00:00,  1.82it/s]\n",
            "    97/100     3.98G       0.295       0.239       0.985           1: 100% 110/110 [01:00<00:00,  1.82it/s]\n",
            "    98/100     3.98G       0.293        0.24       0.984           1: 100% 110/110 [01:00<00:00,  1.82it/s]\n",
            "    99/100     3.98G       0.293       0.239       0.984           1: 100% 110/110 [01:00<00:00,  1.83it/s]\n",
            "   100/100     3.98G       0.288       0.239       0.982           1: 100% 110/110 [01:00<00:00,  1.83it/s]\n",
            "\n",
            "Training complete (1.691 hours)\n",
            "Results saved to \u001b[1mruns/train-cls/exp2\u001b[0m\n",
            "Predict:         python classify/predict.py --weights runs/train-cls/exp2/weights/best.pt --source im.jpg\n",
            "Validate:        python classify/val.py --weights runs/train-cls/exp2/weights/best.pt --data /content/drive/MyDrive/Militech22/datasets/dataset-3\n",
            "Export:          python export.py --weights runs/train-cls/exp2/weights/best.pt --include onnx\n",
            "PyTorch Hub:     model = torch.hub.load('ultralytics/yolov5', 'custom', 'runs/train-cls/exp2/weights/best.pt')\n",
            "Visualize:       https://netron.app\n",
            "\n"
          ]
        }
      ],
      "source": [
        "!python classify/train.py --model yolov5s-cls.pt --data ./dataset-3 --epochs 100 --img 350 --pretrained weights/yolov5s-cls.pt"
      ]
    },
    {
      "cell_type": "code",
      "execution_count": null,
      "metadata": {
        "colab": {
          "base_uri": "https://localhost:8080/"
        },
        "id": "2NkswjbbgCv9",
        "outputId": "bd3f7e5d-6f9c-4d0c-a2cb-f8b0ddd2725f"
      },
      "outputs": [
        {
          "name": "stdout",
          "output_type": "stream",
          "text": [
            "\u001b[34m\u001b[1mclassify/val: \u001b[0mdata=/content/drive/MyDrive/Militech22/datasets/dataset-3/, weights=['runs/train-cls/exp2/weights/best.pt'], batch_size=128, imgsz=350, device=, workers=8, verbose=True, project=runs/val-cls, name=exp, exist_ok=False, half=False, dnn=False\n",
            "YOLOv5 🚀 v6.2-185-ge4398cf Python-3.7.14 torch-1.12.1+cu113 CUDA:0 (Tesla T4, 15110MiB)\n",
            "\n",
            "Fusing layers... \n",
            "Model summary: 117 layers, 4169250 parameters, 0 gradients, 10.4 GFLOPs\n",
            "WARNING ⚠️ --img-size 350 must be multiple of max stride 32, updating to 352\n",
            "testing: 100% 8/8 [00:05<00:00,  1.53it/s]\n",
            "                   Class      Images    top1_acc    top5_acc\n",
            "                     all        1000       0.958           1\n",
            "                aircraft         511        0.93           1\n",
            "       military_aircraft         489       0.988           1\n",
            "Speed: 0.1ms pre-process, 0.9ms inference, 0.0ms post-process per image at shape (1, 3, 352, 352)\n",
            "Results saved to \u001b[1mruns/val-cls/exp4\u001b[0m\n"
          ]
        }
      ],
      "source": [
        "!python classify/val.py --weights runs/train-cls/exp2/weights/best.pt --data /content/drive/MyDrive/Militech22/datasets/dataset-3/ --img 350 "
      ]
    },
    {
      "cell_type": "code",
      "execution_count": null,
      "metadata": {
        "colab": {
          "base_uri": "https://localhost:8080/"
        },
        "id": "xBKxw2RK5zfO",
        "outputId": "4cb5fecd-5c0e-4503-d03d-ef79b4e40018"
      },
      "outputs": [
        {
          "name": "stdout",
          "output_type": "stream",
          "text": [
            "Inferring on an example of the class 'aircraft'\n"
          ]
        }
      ],
      "source": [
        "import os\n",
        "\n",
        "#Get the path of an image from the test or validation set\n",
        "if os.path.exists(os.path.join('/content/drive/MyDrive/Militech22/datasets/dataset-3', \"test\")):\n",
        "  split_path = os.path.join('/content/drive/MyDrive/Militech22/datasets/dataset-3', \"test\")\n",
        "else:\n",
        "  split_path = os.path.join('/content/drive/MyDrive/Militech22/datasets/dataset-3', \"valid\")\n",
        "example_class = os.listdir(split_path)[0]\n",
        "example_image_name = os.listdir(os.path.join(split_path, example_class))[0]\n",
        "example_image_path = os.path.join(split_path, example_class, example_image_name)\n",
        "os.environ[\"TEST_IMAGE_PATH\"] = example_image_path\n",
        "\n",
        "print(f\"Inferring on an example of the class '{example_class}'\")"
      ]
    },
    {
      "cell_type": "code",
      "execution_count": null,
      "metadata": {
        "colab": {
          "base_uri": "https://localhost:8080/"
        },
        "id": "IIJM9Xe26Kd8",
        "outputId": "f278b136-92f1-4170-abac-43d081188c15"
      },
      "outputs": [
        {
          "name": "stdout",
          "output_type": "stream",
          "text": [
            "\u001b[34m\u001b[1mclassify/predict: \u001b[0mweights=['/content/drive/MyDrive/Militech22/yolov5/runs/train-cls/exp2/weights/best.pt'], source=/content/drive/MyDrive/Militech22/datasets/dataset-3/train/military_aircraft/0ec813065041a21698c68ed0dacecfa4_jpg.rf.66a6401fb6af5bdc68671b3ef50b9b40.jpg, data=data/coco128.yaml, imgsz=[224, 224], device=, view_img=False, save_txt=True, nosave=False, augment=False, visualize=False, update=False, project=runs/predict-cls, name=exp, exist_ok=False, half=False, dnn=False, vid_stride=1\n",
            "YOLOv5 🚀 v6.2-185-ge4398cf Python-3.7.14 torch-1.12.1+cu113 CUDA:0 (Tesla T4, 15110MiB)\n",
            "\n",
            "Fusing layers... \n",
            "Model summary: 117 layers, 4169250 parameters, 0 gradients, 10.4 GFLOPs\n",
            "image 1/1 /content/drive/MyDrive/Militech22/datasets/dataset-3/train/military_aircraft/0ec813065041a21698c68ed0dacecfa4_jpg.rf.66a6401fb6af5bdc68671b3ef50b9b40.jpg: 224x224 military_aircraft 0.55, aircraft 0.45, 4.0ms\n",
            "Speed: 0.3ms pre-process, 4.0ms inference, 0.1ms NMS per image at shape (1, 3, 224, 224)\n",
            "Results saved to \u001b[1mruns/predict-cls/exp5\u001b[0m\n",
            "1 labels saved to runs/predict-cls/exp5/labels\n"
          ]
        }
      ],
      "source": [
        "!python /content/drive/MyDrive/Militech22/yolov5/classify/predict.py --weights /content/drive/MyDrive/Militech22/yolov5/runs/train-cls/exp2/weights/best.pt --source /content/drive/MyDrive/Militech22/datasets/dataset-3/train/military_aircraft/0ec813065041a21698c68ed0dacecfa4_jpg.rf.66a6401fb6af5bdc68671b3ef50b9b40.jpg"
      ]
    },
    {
      "cell_type": "code",
      "execution_count": null,
      "metadata": {
        "colab": {
          "base_uri": "https://localhost:8080/"
        },
        "id": "0eARGzjB6gHH",
        "outputId": "80046ad0-8a2b-421c-ebdf-a74f10dffcf7"
      },
      "outputs": [
        {
          "name": "stdout",
          "output_type": "stream",
          "text": [
            "\u001b[34m\u001b[1mclassify/predict: \u001b[0mweights=['/content/drive/MyDrive/Militech22/yolov5/runs/train-cls/exp2/weights/best.pt'], source=/content/0ec813065041a21698c68ed0dacecfa4_0.jpg, data=data/coco128.yaml, imgsz=[224, 224], device=, view_img=False, save_txt=True, nosave=False, augment=False, visualize=False, update=False, project=runs/predict-cls, name=exp, exist_ok=False, half=False, dnn=False, vid_stride=1\n",
            "YOLOv5 🚀 v6.2-185-ge4398cf Python-3.7.14 torch-1.12.1+cu113 CUDA:0 (Tesla T4, 15110MiB)\n",
            "\n",
            "Fusing layers... \n",
            "Model summary: 117 layers, 4169250 parameters, 0 gradients, 10.4 GFLOPs\n",
            "image 1/1 /content/0ec813065041a21698c68ed0dacecfa4_0.jpg: 224x224 military_aircraft 0.97, aircraft 0.03, 3.8ms\n",
            "Speed: 0.3ms pre-process, 3.8ms inference, 0.1ms NMS per image at shape (1, 3, 224, 224)\n",
            "Results saved to \u001b[1mruns/predict-cls/exp6\u001b[0m\n",
            "1 labels saved to runs/predict-cls/exp6/labels\n"
          ]
        }
      ],
      "source": [
        "!python /content/drive/MyDrive/Militech22/yolov5/classify/predict.py --weights /content/drive/MyDrive/Militech22/yolov5/runs/train-cls/exp2/weights/best.pt --source /content/0ec813065041a21698c68ed0dacecfa4_0.jpg"
      ]
    },
    {
      "cell_type": "code",
      "execution_count": null,
      "metadata": {
        "id": "54XLQZeSCT1h",
        "colab": {
          "base_uri": "https://localhost:8080/"
        },
        "outputId": "862f5284-517d-4dfb-82f2-ff65e45bc18a"
      },
      "outputs": [
        {
          "output_type": "stream",
          "name": "stdout",
          "text": [
            "\u001b[34m\u001b[1mclassify/predict: \u001b[0mweights=['/content/drive/MyDrive/Militech22/yolov5/runs/train-cls/exp2/weights/best.pt'], source=/content/Unknown.png, data=data/coco128.yaml, imgsz=[224, 224], device=, view_img=False, save_txt=True, nosave=False, augment=False, visualize=False, update=False, project=runs/predict-cls, name=exp, exist_ok=False, half=False, dnn=False, vid_stride=1\n",
            "YOLOv5 🚀 v6.2-185-ge4398cf Python-3.7.14 torch-1.12.1+cu113 CUDA:0 (Tesla T4, 15110MiB)\n",
            "\n",
            "Fusing layers... \n",
            "Model summary: 117 layers, 4169250 parameters, 0 gradients, 10.4 GFLOPs\n",
            "image 1/1 /content/Unknown.png: 224x224 military_aircraft 0.98, aircraft 0.02, 3.8ms\n",
            "Speed: 0.3ms pre-process, 3.8ms inference, 0.1ms NMS per image at shape (1, 3, 224, 224)\n",
            "Results saved to \u001b[1mruns/predict-cls/exp2\u001b[0m\n",
            "1 labels saved to runs/predict-cls/exp2/labels\n",
            "\u001b[34m\u001b[1mclassify/predict: \u001b[0mweights=['/content/drive/MyDrive/Militech22/yolov5/runs/train-cls/exp2/weights/best.pt'], source=/content/Unknown-2.png, data=data/coco128.yaml, imgsz=[224, 224], device=, view_img=False, save_txt=True, nosave=False, augment=False, visualize=False, update=False, project=runs/predict-cls, name=exp, exist_ok=False, half=False, dnn=False, vid_stride=1\n",
            "YOLOv5 🚀 v6.2-185-ge4398cf Python-3.7.14 torch-1.12.1+cu113 CUDA:0 (Tesla T4, 15110MiB)\n",
            "\n",
            "Fusing layers... \n",
            "Model summary: 117 layers, 4169250 parameters, 0 gradients, 10.4 GFLOPs\n",
            "image 1/1 /content/Unknown-2.png: 224x224 military_aircraft 0.98, aircraft 0.02, 3.7ms\n",
            "Speed: 0.3ms pre-process, 3.7ms inference, 0.1ms NMS per image at shape (1, 3, 224, 224)\n",
            "Results saved to \u001b[1mruns/predict-cls/exp3\u001b[0m\n",
            "1 labels saved to runs/predict-cls/exp3/labels\n",
            "\u001b[34m\u001b[1mclassify/predict: \u001b[0mweights=['/content/drive/MyDrive/Militech22/yolov5/runs/train-cls/exp2/weights/best.pt'], source=/content/Unknown-3.png, data=data/coco128.yaml, imgsz=[224, 224], device=, view_img=False, save_txt=True, nosave=False, augment=False, visualize=False, update=False, project=runs/predict-cls, name=exp, exist_ok=False, half=False, dnn=False, vid_stride=1\n",
            "YOLOv5 🚀 v6.2-185-ge4398cf Python-3.7.14 torch-1.12.1+cu113 CUDA:0 (Tesla T4, 15110MiB)\n",
            "\n",
            "Fusing layers... \n",
            "Model summary: 117 layers, 4169250 parameters, 0 gradients, 10.4 GFLOPs\n",
            "image 1/1 /content/Unknown-3.png: 224x224 military_aircraft 0.98, aircraft 0.02, 3.8ms\n",
            "Speed: 0.3ms pre-process, 3.8ms inference, 0.1ms NMS per image at shape (1, 3, 224, 224)\n",
            "Results saved to \u001b[1mruns/predict-cls/exp4\u001b[0m\n",
            "1 labels saved to runs/predict-cls/exp4/labels\n"
          ]
        }
      ],
      "source": [
        "!python /content/drive/MyDrive/Militech22/yolov5/classify/predict.py --weights /content/drive/MyDrive/Militech22/yolov5/runs/train-cls/exp2/weights/best.pt --source /content/Unknown.png\n",
        "!python /content/drive/MyDrive/Militech22/yolov5/classify/predict.py --weights /content/drive/MyDrive/Militech22/yolov5/runs/train-cls/exp2/weights/best.pt --source /content/Unknown-2.png\n",
        "!python /content/drive/MyDrive/Militech22/yolov5/classify/predict.py --weights /content/drive/MyDrive/Militech22/yolov5/runs/train-cls/exp2/weights/best.pt --source /content/Unknown-3.png"
      ]
    },
    {
      "cell_type": "code",
      "source": [
        "!python /content/drive/MyDrive/Militech22/yolov5/classify/predict.py --weights /content/drive/MyDrive/Militech22/yolov5/runs/train-cls/exp2/weights/best.pt --source /content/50.png\n",
        "!python /content/drive/MyDrive/Militech22/yolov5/classify/predict.py --weights /content/drive/MyDrive/Militech22/yolov5/runs/train-cls/exp2/weights/best.pt --source /content/70.png"
      ],
      "metadata": {
        "colab": {
          "base_uri": "https://localhost:8080/"
        },
        "id": "CCu6v8RWF6xR",
        "outputId": "eb17c2ad-847a-4927-d60d-25598e244773"
      },
      "execution_count": null,
      "outputs": [
        {
          "output_type": "stream",
          "name": "stdout",
          "text": [
            "\u001b[34m\u001b[1mclassify/predict: \u001b[0mweights=['/content/drive/MyDrive/Militech22/yolov5/runs/train-cls/exp2/weights/best.pt'], source=/content/50.png, data=data/coco128.yaml, imgsz=[224, 224], device=, view_img=False, save_txt=True, nosave=False, augment=False, visualize=False, update=False, project=runs/predict-cls, name=exp, exist_ok=False, half=False, dnn=False, vid_stride=1\n",
            "YOLOv5 🚀 v6.2-185-ge4398cf Python-3.7.14 torch-1.12.1+cu113 CUDA:0 (Tesla T4, 15110MiB)\n",
            "\n",
            "Fusing layers... \n",
            "Model summary: 117 layers, 4169250 parameters, 0 gradients, 10.4 GFLOPs\n",
            "image 1/1 /content/50.png: 224x224 military_aircraft 0.92, aircraft 0.08, 3.9ms\n",
            "Speed: 0.3ms pre-process, 3.9ms inference, 0.1ms NMS per image at shape (1, 3, 224, 224)\n",
            "Results saved to \u001b[1mruns/predict-cls/exp5\u001b[0m\n",
            "1 labels saved to runs/predict-cls/exp5/labels\n",
            "\u001b[34m\u001b[1mclassify/predict: \u001b[0mweights=['/content/drive/MyDrive/Militech22/yolov5/runs/train-cls/exp2/weights/best.pt'], source=/content/70.png, data=data/coco128.yaml, imgsz=[224, 224], device=, view_img=False, save_txt=True, nosave=False, augment=False, visualize=False, update=False, project=runs/predict-cls, name=exp, exist_ok=False, half=False, dnn=False, vid_stride=1\n",
            "YOLOv5 🚀 v6.2-185-ge4398cf Python-3.7.14 torch-1.12.1+cu113 CUDA:0 (Tesla T4, 15110MiB)\n",
            "\n",
            "Fusing layers... \n",
            "Model summary: 117 layers, 4169250 parameters, 0 gradients, 10.4 GFLOPs\n",
            "image 1/1 /content/70.png: 224x224 military_aircraft 0.83, aircraft 0.17, 3.9ms\n",
            "Speed: 0.3ms pre-process, 3.9ms inference, 0.1ms NMS per image at shape (1, 3, 224, 224)\n",
            "Results saved to \u001b[1mruns/predict-cls/exp6\u001b[0m\n",
            "1 labels saved to runs/predict-cls/exp6/labels\n"
          ]
        }
      ]
    },
    {
      "cell_type": "code",
      "source": [
        "!python /content/drive/MyDrive/Militech22/yolov5/classify/predict.py --weights /content/drive/MyDrive/Militech22/yolov5/runs/train-cls/exp2/weights/best.pt --source /content/drive/MyDrive/Militech22/test/4.jpeg\n",
        "!python /content/drive/MyDrive/Militech22/yolov5/classify/predict.py --weights /content/drive/MyDrive/Militech22/yolov5/runs/train-cls/exp2/weights/best.pt --source /content/drive/MyDrive/Militech22/test/5.jpeg\n",
        "!python /content/drive/MyDrive/Militech22/yolov5/classify/predict.py --weights /content/drive/MyDrive/Militech22/yolov5/runs/train-cls/exp2/weights/best.pt --source /content/drive/MyDrive/Militech22/test/7.jpeg\n",
        "!python /content/drive/MyDrive/Militech22/yolov5/classify/predict.py --weights /content/drive/MyDrive/Militech22/yolov5/runs/train-cls/exp2/weights/best.pt --source /content/drive/MyDrive/Militech22/test/8.jpeg"
      ],
      "metadata": {
        "colab": {
          "base_uri": "https://localhost:8080/"
        },
        "id": "yLuKPMtgGTGP",
        "outputId": "ccd2bef9-421d-4d96-9f91-6a69ddc2c24d"
      },
      "execution_count": null,
      "outputs": [
        {
          "output_type": "stream",
          "name": "stdout",
          "text": [
            "\u001b[34m\u001b[1mclassify/predict: \u001b[0mweights=['/content/drive/MyDrive/Militech22/yolov5/runs/train-cls/exp2/weights/best.pt'], source=/content/drive/MyDrive/Militech22/test/4.jpeg, data=data/coco128.yaml, imgsz=[224, 224], device=, view_img=False, save_txt=True, nosave=False, augment=False, visualize=False, update=False, project=runs/predict-cls, name=exp, exist_ok=False, half=False, dnn=False, vid_stride=1\n",
            "YOLOv5 🚀 v6.2-185-ge4398cf Python-3.7.14 torch-1.12.1+cu113 CUDA:0 (Tesla T4, 15110MiB)\n",
            "\n",
            "Fusing layers... \n",
            "Model summary: 117 layers, 4169250 parameters, 0 gradients, 10.4 GFLOPs\n",
            "image 1/1 /content/drive/MyDrive/Militech22/test/4.jpeg: 224x224 military_aircraft 0.98, aircraft 0.02, 4.3ms\n",
            "Speed: 0.4ms pre-process, 4.3ms inference, 0.1ms NMS per image at shape (1, 3, 224, 224)\n",
            "Results saved to \u001b[1mruns/predict-cls/exp7\u001b[0m\n",
            "1 labels saved to runs/predict-cls/exp7/labels\n",
            "\u001b[34m\u001b[1mclassify/predict: \u001b[0mweights=['/content/drive/MyDrive/Militech22/yolov5/runs/train-cls/exp2/weights/best.pt'], source=/content/drive/MyDrive/Militech22/test/5.jpeg, data=data/coco128.yaml, imgsz=[224, 224], device=, view_img=False, save_txt=True, nosave=False, augment=False, visualize=False, update=False, project=runs/predict-cls, name=exp, exist_ok=False, half=False, dnn=False, vid_stride=1\n",
            "YOLOv5 🚀 v6.2-185-ge4398cf Python-3.7.14 torch-1.12.1+cu113 CUDA:0 (Tesla T4, 15110MiB)\n",
            "\n",
            "Fusing layers... \n",
            "Model summary: 117 layers, 4169250 parameters, 0 gradients, 10.4 GFLOPs\n",
            "image 1/1 /content/drive/MyDrive/Militech22/test/5.jpeg: 224x224 military_aircraft 0.97, aircraft 0.03, 4.1ms\n",
            "Speed: 0.4ms pre-process, 4.1ms inference, 0.1ms NMS per image at shape (1, 3, 224, 224)\n",
            "Results saved to \u001b[1mruns/predict-cls/exp8\u001b[0m\n",
            "1 labels saved to runs/predict-cls/exp8/labels\n",
            "\u001b[34m\u001b[1mclassify/predict: \u001b[0mweights=['/content/drive/MyDrive/Militech22/yolov5/runs/train-cls/exp2/weights/best.pt'], source=/content/drive/MyDrive/Militech22/test/7.jpeg, data=data/coco128.yaml, imgsz=[224, 224], device=, view_img=False, save_txt=True, nosave=False, augment=False, visualize=False, update=False, project=runs/predict-cls, name=exp, exist_ok=False, half=False, dnn=False, vid_stride=1\n",
            "YOLOv5 🚀 v6.2-185-ge4398cf Python-3.7.14 torch-1.12.1+cu113 CUDA:0 (Tesla T4, 15110MiB)\n",
            "\n",
            "Fusing layers... \n",
            "Model summary: 117 layers, 4169250 parameters, 0 gradients, 10.4 GFLOPs\n",
            "image 1/1 /content/drive/MyDrive/Militech22/test/7.jpeg: 224x224 military_aircraft 0.98, aircraft 0.02, 4.1ms\n",
            "Speed: 0.4ms pre-process, 4.1ms inference, 0.1ms NMS per image at shape (1, 3, 224, 224)\n",
            "Results saved to \u001b[1mruns/predict-cls/exp9\u001b[0m\n",
            "1 labels saved to runs/predict-cls/exp9/labels\n",
            "\u001b[34m\u001b[1mclassify/predict: \u001b[0mweights=['/content/drive/MyDrive/Militech22/yolov5/runs/train-cls/exp2/weights/best.pt'], source=/content/drive/MyDrive/Militech22/test/8.jpeg, data=data/coco128.yaml, imgsz=[224, 224], device=, view_img=False, save_txt=True, nosave=False, augment=False, visualize=False, update=False, project=runs/predict-cls, name=exp, exist_ok=False, half=False, dnn=False, vid_stride=1\n",
            "YOLOv5 🚀 v6.2-185-ge4398cf Python-3.7.14 torch-1.12.1+cu113 CUDA:0 (Tesla T4, 15110MiB)\n",
            "\n",
            "Fusing layers... \n",
            "Model summary: 117 layers, 4169250 parameters, 0 gradients, 10.4 GFLOPs\n",
            "image 1/1 /content/drive/MyDrive/Militech22/test/8.jpeg: 224x224 military_aircraft 0.98, aircraft 0.02, 4.2ms\n",
            "Speed: 0.5ms pre-process, 4.2ms inference, 0.1ms NMS per image at shape (1, 3, 224, 224)\n",
            "Results saved to \u001b[1mruns/predict-cls/exp10\u001b[0m\n",
            "1 labels saved to runs/predict-cls/exp10/labels\n"
          ]
        }
      ]
    },
    {
      "cell_type": "code",
      "source": [
        "!python /content/drive/MyDrive/Militech22/yolov5/classify/predict.py --weights /content/drive/MyDrive/Militech22/yolov5/runs/train-cls/exp2/weights/best.pt --source /content/model01.jpeg\n",
        "!python /content/drive/MyDrive/Militech22/yolov5/classify/predict.py --weights /content/drive/MyDrive/Militech22/yolov5/runs/train-cls/exp2/weights/best.pt --source /content/model02.jpeg\n",
        "!python /content/drive/MyDrive/Militech22/yolov5/classify/predict.py --weights /content/drive/MyDrive/Militech22/yolov5/runs/train-cls/exp2/weights/best.pt --source /content/model03.jpeg\n",
        "!python /content/drive/MyDrive/Militech22/yolov5/classify/predict.py --weights /content/drive/MyDrive/Militech22/yolov5/runs/train-cls/exp2/weights/best.pt --source /content/model04.jpeg"
      ],
      "metadata": {
        "id": "0IZbTDwYIsf0",
        "colab": {
          "base_uri": "https://localhost:8080/"
        },
        "outputId": "e4e947dd-5e1a-4a52-e00e-6002c20a71d3"
      },
      "execution_count": null,
      "outputs": [
        {
          "output_type": "stream",
          "name": "stdout",
          "text": [
            "\u001b[34m\u001b[1mclassify/predict: \u001b[0mweights=['/content/drive/MyDrive/Militech22/yolov5/runs/train-cls/exp2/weights/best.pt'], source=/content/model01.jpeg, data=yolov5/data/coco128.yaml, imgsz=[224, 224], device=, view_img=False, save_txt=True, nosave=False, augment=False, visualize=False, update=False, project=yolov5/runs/predict-cls, name=exp, exist_ok=False, half=False, dnn=False, vid_stride=1\n",
            "\u001b[31m\u001b[1mrequirements:\u001b[0m YOLOv5 requirement \"ipython\" not found, attempting AutoUpdate...\n",
            "Looking in indexes: https://pypi.org/simple, https://us-python.pkg.dev/colab-wheels/public/simple/\n",
            "Requirement already satisfied: ipython in /usr/local/lib/python3.7/dist-packages (7.9.0)\n",
            "Requirement already satisfied: pexpect in /usr/local/lib/python3.7/dist-packages (from ipython) (4.8.0)\n",
            "Requirement already satisfied: pygments in /usr/local/lib/python3.7/dist-packages (from ipython) (2.6.1)\n",
            "Requirement already satisfied: pickleshare in /usr/local/lib/python3.7/dist-packages (from ipython) (0.7.5)\n",
            "Collecting jedi>=0.10\n",
            "  Downloading jedi-0.18.1-py2.py3-none-any.whl (1.6 MB)\n",
            "Requirement already satisfied: backcall in /usr/local/lib/python3.7/dist-packages (from ipython) (0.2.0)\n",
            "Requirement already satisfied: prompt-toolkit<2.1.0,>=2.0.0 in /usr/local/lib/python3.7/dist-packages (from ipython) (2.0.10)\n",
            "Requirement already satisfied: decorator in /usr/local/lib/python3.7/dist-packages (from ipython) (4.4.2)\n",
            "Requirement already satisfied: setuptools>=18.5 in /usr/local/lib/python3.7/dist-packages (from ipython) (57.4.0)\n",
            "Requirement already satisfied: traitlets>=4.2 in /usr/local/lib/python3.7/dist-packages (from ipython) (5.1.1)\n",
            "Requirement already satisfied: parso<0.9.0,>=0.8.0 in /usr/local/lib/python3.7/dist-packages (from jedi>=0.10->ipython) (0.8.3)\n",
            "Requirement already satisfied: six>=1.9.0 in /usr/local/lib/python3.7/dist-packages (from prompt-toolkit<2.1.0,>=2.0.0->ipython) (1.15.0)\n",
            "Requirement already satisfied: wcwidth in /usr/local/lib/python3.7/dist-packages (from prompt-toolkit<2.1.0,>=2.0.0->ipython) (0.2.5)\n",
            "Requirement already satisfied: ptyprocess>=0.5 in /usr/local/lib/python3.7/dist-packages (from pexpect->ipython) (0.7.0)\n",
            "Installing collected packages: jedi\n",
            "Successfully installed jedi-0.18.1\n",
            "\n",
            "\u001b[31m\u001b[1mrequirements:\u001b[0m 1 package updated per /content/drive/MyDrive/Militech22/yolov5/requirements.txt\n",
            "\u001b[31m\u001b[1mrequirements:\u001b[0m ⚠️ \u001b[1mRestart runtime or rerun command for updates to take effect\u001b[0m\n",
            "\n",
            "YOLOv5 🚀 v6.2-185-ge4398cf Python-3.7.14 torch-1.12.1+cu113 CUDA:0 (Tesla T4, 15110MiB)\n",
            "\n",
            "Fusing layers... \n",
            "Model summary: 117 layers, 4169250 parameters, 0 gradients\n",
            "Downloading https://ultralytics.com/assets/Arial.ttf to /root/.config/Ultralytics/Arial.ttf...\n",
            "image 1/1 /content/model01.jpeg: 224x224 military_aircraft 0.99, aircraft 0.01, 4.4ms\n",
            "Speed: 0.4ms pre-process, 4.4ms inference, 3.0ms NMS per image at shape (1, 3, 224, 224)\n",
            "Results saved to \u001b[1myolov5/runs/predict-cls/exp\u001b[0m\n",
            "1 labels saved to yolov5/runs/predict-cls/exp/labels\n",
            "\u001b[34m\u001b[1mclassify/predict: \u001b[0mweights=['/content/drive/MyDrive/Militech22/yolov5/runs/train-cls/exp2/weights/best.pt'], source=/content/model02.jpeg, data=yolov5/data/coco128.yaml, imgsz=[224, 224], device=, view_img=False, save_txt=True, nosave=False, augment=False, visualize=False, update=False, project=yolov5/runs/predict-cls, name=exp, exist_ok=False, half=False, dnn=False, vid_stride=1\n",
            "YOLOv5 🚀 v6.2-185-ge4398cf Python-3.7.14 torch-1.12.1+cu113 CUDA:0 (Tesla T4, 15110MiB)\n",
            "\n",
            "Fusing layers... \n",
            "Model summary: 117 layers, 4169250 parameters, 0 gradients\n",
            "image 1/1 /content/model02.jpeg: 224x224 military_aircraft 0.99, aircraft 0.01, 4.3ms\n",
            "Speed: 0.4ms pre-process, 4.3ms inference, 0.1ms NMS per image at shape (1, 3, 224, 224)\n",
            "Results saved to \u001b[1myolov5/runs/predict-cls/exp2\u001b[0m\n",
            "1 labels saved to yolov5/runs/predict-cls/exp2/labels\n",
            "\u001b[34m\u001b[1mclassify/predict: \u001b[0mweights=['/content/drive/MyDrive/Militech22/yolov5/runs/train-cls/exp2/weights/best.pt'], source=/content/model03.jpeg, data=yolov5/data/coco128.yaml, imgsz=[224, 224], device=, view_img=False, save_txt=True, nosave=False, augment=False, visualize=False, update=False, project=yolov5/runs/predict-cls, name=exp, exist_ok=False, half=False, dnn=False, vid_stride=1\n",
            "YOLOv5 🚀 v6.2-185-ge4398cf Python-3.7.14 torch-1.12.1+cu113 CUDA:0 (Tesla T4, 15110MiB)\n",
            "\n",
            "Fusing layers... \n",
            "Model summary: 117 layers, 4169250 parameters, 0 gradients\n",
            "image 1/1 /content/model03.jpeg: 224x224 military_aircraft 0.97, aircraft 0.03, 6.4ms\n",
            "Speed: 0.5ms pre-process, 6.4ms inference, 0.1ms NMS per image at shape (1, 3, 224, 224)\n",
            "Results saved to \u001b[1myolov5/runs/predict-cls/exp3\u001b[0m\n",
            "1 labels saved to yolov5/runs/predict-cls/exp3/labels\n",
            "\u001b[34m\u001b[1mclassify/predict: \u001b[0mweights=['/content/drive/MyDrive/Militech22/yolov5/runs/train-cls/exp2/weights/best.pt'], source=/content/model04.jpeg, data=yolov5/data/coco128.yaml, imgsz=[224, 224], device=, view_img=False, save_txt=True, nosave=False, augment=False, visualize=False, update=False, project=yolov5/runs/predict-cls, name=exp, exist_ok=False, half=False, dnn=False, vid_stride=1\n",
            "YOLOv5 🚀 v6.2-185-ge4398cf Python-3.7.14 torch-1.12.1+cu113 CUDA:0 (Tesla T4, 15110MiB)\n",
            "\n",
            "Fusing layers... \n",
            "Model summary: 117 layers, 4169250 parameters, 0 gradients\n",
            "image 1/1 /content/model04.jpeg: 224x224 military_aircraft 0.98, aircraft 0.02, 5.7ms\n",
            "Speed: 0.5ms pre-process, 5.7ms inference, 0.1ms NMS per image at shape (1, 3, 224, 224)\n",
            "Results saved to \u001b[1myolov5/runs/predict-cls/exp4\u001b[0m\n",
            "1 labels saved to yolov5/runs/predict-cls/exp4/labels\n"
          ]
        }
      ]
    },
    {
      "cell_type": "code",
      "source": [
        "import cv2\n",
        "import numpy as np\n",
        "from matplotlib import pyplot as plt\n",
        "\n",
        "img = cv2.imread('/content/0ec813065041a21698c68ed0dacecfa4_0.jpg')\n",
        "img = cv2.cvtColor(img, cv2.COLOR_BGR2RGB)\n",
        "\n",
        "#blur 조절 변수\n",
        "size = 100\n",
        "kernel = np.ones((size, size), np.float32) / (size * size)\n",
        "dst = cv2.filter2D(img, -1, kernel)\n",
        "\n",
        "cv2.imwrite('model_output.png', cv2.cvtColor(dst, cv2.COLOR_RGB2BGR))\n",
        "\n",
        "plt.imshow(dst)\n",
        "plt.xticks([]), plt.yticks([])\n",
        "plt.show()"
      ],
      "metadata": {
        "id": "CL-oVpNjrF_S"
      },
      "execution_count": null,
      "outputs": []
    },
    {
      "cell_type": "code",
      "source": [],
      "metadata": {
        "id": "LYCNLEIJt6Lf"
      },
      "execution_count": null,
      "outputs": []
    }
  ],
  "metadata": {
    "accelerator": "GPU",
    "colab": {
      "provenance": []
    },
    "kernelspec": {
      "display_name": "Python 3",
      "name": "python3"
    },
    "language_info": {
      "name": "python"
    },
    "widgets": {
      "application/vnd.jupyter.widget-state+json": {
        "1bf361a4bfb04aa6a66a8369feb42bb3": {
          "model_module": "@jupyter-widgets/controls",
          "model_module_version": "1.5.0",
          "model_name": "DescriptionStyleModel",
          "state": {
            "_model_module": "@jupyter-widgets/controls",
            "_model_module_version": "1.5.0",
            "_model_name": "DescriptionStyleModel",
            "_view_count": null,
            "_view_module": "@jupyter-widgets/base",
            "_view_module_version": "1.2.0",
            "_view_name": "StyleView",
            "description_width": ""
          }
        },
        "29384cdd36ac47de86e1fc227f4f5b53": {
          "model_module": "@jupyter-widgets/controls",
          "model_module_version": "1.5.0",
          "model_name": "HBoxModel",
          "state": {
            "_dom_classes": [],
            "_model_module": "@jupyter-widgets/controls",
            "_model_module_version": "1.5.0",
            "_model_name": "HBoxModel",
            "_view_count": null,
            "_view_module": "@jupyter-widgets/controls",
            "_view_module_version": "1.5.0",
            "_view_name": "HBoxView",
            "box_style": "",
            "children": [
              "IPY_MODEL_f70c40bd961b4217bd00fb45c3838533",
              "IPY_MODEL_d72f2355a159483c8baed0b41f8e3aef",
              "IPY_MODEL_a904f5cd8f564ab58aab0ab3a8aa823f"
            ],
            "layout": "IPY_MODEL_dd575e1bc5984859901339e3f3ccf4e0"
          }
        },
        "44c283a527574533bd2e1cd51bf416b8": {
          "model_module": "@jupyter-widgets/base",
          "model_module_version": "1.2.0",
          "model_name": "LayoutModel",
          "state": {
            "_model_module": "@jupyter-widgets/base",
            "_model_module_version": "1.2.0",
            "_model_name": "LayoutModel",
            "_view_count": null,
            "_view_module": "@jupyter-widgets/base",
            "_view_module_version": "1.2.0",
            "_view_name": "LayoutView",
            "align_content": null,
            "align_items": null,
            "align_self": null,
            "border": null,
            "bottom": null,
            "display": null,
            "flex": null,
            "flex_flow": null,
            "grid_area": null,
            "grid_auto_columns": null,
            "grid_auto_flow": null,
            "grid_auto_rows": null,
            "grid_column": null,
            "grid_gap": null,
            "grid_row": null,
            "grid_template_areas": null,
            "grid_template_columns": null,
            "grid_template_rows": null,
            "height": null,
            "justify_content": null,
            "justify_items": null,
            "left": null,
            "margin": null,
            "max_height": null,
            "max_width": null,
            "min_height": null,
            "min_width": null,
            "object_fit": null,
            "object_position": null,
            "order": null,
            "overflow": null,
            "overflow_x": null,
            "overflow_y": null,
            "padding": null,
            "right": null,
            "top": null,
            "visibility": null,
            "width": null
          }
        },
        "5bfd8dbbede8419fa57b69d2a8c7d420": {
          "model_module": "@jupyter-widgets/controls",
          "model_module_version": "1.5.0",
          "model_name": "DescriptionStyleModel",
          "state": {
            "_model_module": "@jupyter-widgets/controls",
            "_model_module_version": "1.5.0",
            "_model_name": "DescriptionStyleModel",
            "_view_count": null,
            "_view_module": "@jupyter-widgets/base",
            "_view_module_version": "1.2.0",
            "_view_name": "StyleView",
            "description_width": ""
          }
        },
        "84ed6080e2e04b1f8a1a33d10736b523": {
          "model_module": "@jupyter-widgets/controls",
          "model_module_version": "1.5.0",
          "model_name": "ProgressStyleModel",
          "state": {
            "_model_module": "@jupyter-widgets/controls",
            "_model_module_version": "1.5.0",
            "_model_name": "ProgressStyleModel",
            "_view_count": null,
            "_view_module": "@jupyter-widgets/base",
            "_view_module_version": "1.2.0",
            "_view_name": "StyleView",
            "bar_color": null,
            "description_width": ""
          }
        },
        "a5eff114af484d7a916725ccc42976d0": {
          "model_module": "@jupyter-widgets/base",
          "model_module_version": "1.2.0",
          "model_name": "LayoutModel",
          "state": {
            "_model_module": "@jupyter-widgets/base",
            "_model_module_version": "1.2.0",
            "_model_name": "LayoutModel",
            "_view_count": null,
            "_view_module": "@jupyter-widgets/base",
            "_view_module_version": "1.2.0",
            "_view_name": "LayoutView",
            "align_content": null,
            "align_items": null,
            "align_self": null,
            "border": null,
            "bottom": null,
            "display": null,
            "flex": null,
            "flex_flow": null,
            "grid_area": null,
            "grid_auto_columns": null,
            "grid_auto_flow": null,
            "grid_auto_rows": null,
            "grid_column": null,
            "grid_gap": null,
            "grid_row": null,
            "grid_template_areas": null,
            "grid_template_columns": null,
            "grid_template_rows": null,
            "height": null,
            "justify_content": null,
            "justify_items": null,
            "left": null,
            "margin": null,
            "max_height": null,
            "max_width": null,
            "min_height": null,
            "min_width": null,
            "object_fit": null,
            "object_position": null,
            "order": null,
            "overflow": null,
            "overflow_x": null,
            "overflow_y": null,
            "padding": null,
            "right": null,
            "top": null,
            "visibility": null,
            "width": null
          }
        },
        "a904f5cd8f564ab58aab0ab3a8aa823f": {
          "model_module": "@jupyter-widgets/controls",
          "model_module_version": "1.5.0",
          "model_name": "HTMLModel",
          "state": {
            "_dom_classes": [],
            "_model_module": "@jupyter-widgets/controls",
            "_model_module_version": "1.5.0",
            "_model_name": "HTMLModel",
            "_view_count": null,
            "_view_module": "@jupyter-widgets/controls",
            "_view_module_version": "1.5.0",
            "_view_name": "HTMLView",
            "description": "",
            "description_tooltip": null,
            "layout": "IPY_MODEL_fdc5c66aee5d443ebc7936e067ca590d",
            "placeholder": "​",
            "style": "IPY_MODEL_1bf361a4bfb04aa6a66a8369feb42bb3",
            "value": " 14.1M/14.1M [00:00&lt;00:00, 61.7MB/s]"
          }
        },
        "d72f2355a159483c8baed0b41f8e3aef": {
          "model_module": "@jupyter-widgets/controls",
          "model_module_version": "1.5.0",
          "model_name": "FloatProgressModel",
          "state": {
            "_dom_classes": [],
            "_model_module": "@jupyter-widgets/controls",
            "_model_module_version": "1.5.0",
            "_model_name": "FloatProgressModel",
            "_view_count": null,
            "_view_module": "@jupyter-widgets/controls",
            "_view_module_version": "1.5.0",
            "_view_name": "ProgressView",
            "bar_style": "success",
            "description": "",
            "description_tooltip": null,
            "layout": "IPY_MODEL_a5eff114af484d7a916725ccc42976d0",
            "max": 14808437,
            "min": 0,
            "orientation": "horizontal",
            "style": "IPY_MODEL_84ed6080e2e04b1f8a1a33d10736b523",
            "value": 14808437
          }
        },
        "dd575e1bc5984859901339e3f3ccf4e0": {
          "model_module": "@jupyter-widgets/base",
          "model_module_version": "1.2.0",
          "model_name": "LayoutModel",
          "state": {
            "_model_module": "@jupyter-widgets/base",
            "_model_module_version": "1.2.0",
            "_model_name": "LayoutModel",
            "_view_count": null,
            "_view_module": "@jupyter-widgets/base",
            "_view_module_version": "1.2.0",
            "_view_name": "LayoutView",
            "align_content": null,
            "align_items": null,
            "align_self": null,
            "border": null,
            "bottom": null,
            "display": null,
            "flex": null,
            "flex_flow": null,
            "grid_area": null,
            "grid_auto_columns": null,
            "grid_auto_flow": null,
            "grid_auto_rows": null,
            "grid_column": null,
            "grid_gap": null,
            "grid_row": null,
            "grid_template_areas": null,
            "grid_template_columns": null,
            "grid_template_rows": null,
            "height": null,
            "justify_content": null,
            "justify_items": null,
            "left": null,
            "margin": null,
            "max_height": null,
            "max_width": null,
            "min_height": null,
            "min_width": null,
            "object_fit": null,
            "object_position": null,
            "order": null,
            "overflow": null,
            "overflow_x": null,
            "overflow_y": null,
            "padding": null,
            "right": null,
            "top": null,
            "visibility": null,
            "width": null
          }
        },
        "f70c40bd961b4217bd00fb45c3838533": {
          "model_module": "@jupyter-widgets/controls",
          "model_module_version": "1.5.0",
          "model_name": "HTMLModel",
          "state": {
            "_dom_classes": [],
            "_model_module": "@jupyter-widgets/controls",
            "_model_module_version": "1.5.0",
            "_model_name": "HTMLModel",
            "_view_count": null,
            "_view_module": "@jupyter-widgets/controls",
            "_view_module_version": "1.5.0",
            "_view_name": "HTMLView",
            "description": "",
            "description_tooltip": null,
            "layout": "IPY_MODEL_44c283a527574533bd2e1cd51bf416b8",
            "placeholder": "​",
            "style": "IPY_MODEL_5bfd8dbbede8419fa57b69d2a8c7d420",
            "value": "100%"
          }
        },
        "fdc5c66aee5d443ebc7936e067ca590d": {
          "model_module": "@jupyter-widgets/base",
          "model_module_version": "1.2.0",
          "model_name": "LayoutModel",
          "state": {
            "_model_module": "@jupyter-widgets/base",
            "_model_module_version": "1.2.0",
            "_model_name": "LayoutModel",
            "_view_count": null,
            "_view_module": "@jupyter-widgets/base",
            "_view_module_version": "1.2.0",
            "_view_name": "LayoutView",
            "align_content": null,
            "align_items": null,
            "align_self": null,
            "border": null,
            "bottom": null,
            "display": null,
            "flex": null,
            "flex_flow": null,
            "grid_area": null,
            "grid_auto_columns": null,
            "grid_auto_flow": null,
            "grid_auto_rows": null,
            "grid_column": null,
            "grid_gap": null,
            "grid_row": null,
            "grid_template_areas": null,
            "grid_template_columns": null,
            "grid_template_rows": null,
            "height": null,
            "justify_content": null,
            "justify_items": null,
            "left": null,
            "margin": null,
            "max_height": null,
            "max_width": null,
            "min_height": null,
            "min_width": null,
            "object_fit": null,
            "object_position": null,
            "order": null,
            "overflow": null,
            "overflow_x": null,
            "overflow_y": null,
            "padding": null,
            "right": null,
            "top": null,
            "visibility": null,
            "width": null
          }
        }
      }
    }
  },
  "nbformat": 4,
  "nbformat_minor": 0
}