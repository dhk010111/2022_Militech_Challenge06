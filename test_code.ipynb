{
  "nbformat": 4,
  "nbformat_minor": 0,
  "metadata": {
    "colab": {
      "provenance": []
    },
    "kernelspec": {
      "name": "python3",
      "display_name": "Python 3"
    },
    "language_info": {
      "name": "python"
    },
    "widgets": {
      "application/vnd.jupyter.widget-state+json": {
        "d9ebb75a418c4bf9bdc6338ab017704f": {
          "model_module": "@jupyter-widgets/controls",
          "model_name": "HBoxModel",
          "model_module_version": "1.5.0",
          "state": {
            "_dom_classes": [],
            "_model_module": "@jupyter-widgets/controls",
            "_model_module_version": "1.5.0",
            "_model_name": "HBoxModel",
            "_view_count": null,
            "_view_module": "@jupyter-widgets/controls",
            "_view_module_version": "1.5.0",
            "_view_name": "HBoxView",
            "box_style": "",
            "children": [
              "IPY_MODEL_dba2ec81f4cd42249c9d1e2be28f8acd",
              "IPY_MODEL_416587279afb4549bdf23cdcbe4b4715",
              "IPY_MODEL_caf06449b1874ec092f83afb4cd1ecdc"
            ],
            "layout": "IPY_MODEL_8310a2b9baa64019840a678f41e701b4"
          }
        },
        "dba2ec81f4cd42249c9d1e2be28f8acd": {
          "model_module": "@jupyter-widgets/controls",
          "model_name": "HTMLModel",
          "model_module_version": "1.5.0",
          "state": {
            "_dom_classes": [],
            "_model_module": "@jupyter-widgets/controls",
            "_model_module_version": "1.5.0",
            "_model_name": "HTMLModel",
            "_view_count": null,
            "_view_module": "@jupyter-widgets/controls",
            "_view_module_version": "1.5.0",
            "_view_name": "HTMLView",
            "description": "",
            "description_tooltip": null,
            "layout": "IPY_MODEL_b6b166e1930545a4ad46017b6eb6eac7",
            "placeholder": "​",
            "style": "IPY_MODEL_7880d0b42919413ca7654117bc6ccfd8",
            "value": "100%"
          }
        },
        "416587279afb4549bdf23cdcbe4b4715": {
          "model_module": "@jupyter-widgets/controls",
          "model_name": "FloatProgressModel",
          "model_module_version": "1.5.0",
          "state": {
            "_dom_classes": [],
            "_model_module": "@jupyter-widgets/controls",
            "_model_module_version": "1.5.0",
            "_model_name": "FloatProgressModel",
            "_view_count": null,
            "_view_module": "@jupyter-widgets/controls",
            "_view_module_version": "1.5.0",
            "_view_name": "ProgressView",
            "bar_style": "success",
            "description": "",
            "description_tooltip": null,
            "layout": "IPY_MODEL_bcb110ef2fac4e6eaaee02a8da72794e",
            "max": 170498071,
            "min": 0,
            "orientation": "horizontal",
            "style": "IPY_MODEL_3f9ffec0be494b47959e372eebdc1d20",
            "value": 170498071
          }
        },
        "caf06449b1874ec092f83afb4cd1ecdc": {
          "model_module": "@jupyter-widgets/controls",
          "model_name": "HTMLModel",
          "model_module_version": "1.5.0",
          "state": {
            "_dom_classes": [],
            "_model_module": "@jupyter-widgets/controls",
            "_model_module_version": "1.5.0",
            "_model_name": "HTMLModel",
            "_view_count": null,
            "_view_module": "@jupyter-widgets/controls",
            "_view_module_version": "1.5.0",
            "_view_name": "HTMLView",
            "description": "",
            "description_tooltip": null,
            "layout": "IPY_MODEL_c03ddcf51c9448b4aa40e0c3c36f728e",
            "placeholder": "​",
            "style": "IPY_MODEL_e2fca696118e46f9839d6f2e7130ad09",
            "value": " 170498071/170498071 [00:02&lt;00:00, 73765297.49it/s]"
          }
        },
        "8310a2b9baa64019840a678f41e701b4": {
          "model_module": "@jupyter-widgets/base",
          "model_name": "LayoutModel",
          "model_module_version": "1.2.0",
          "state": {
            "_model_module": "@jupyter-widgets/base",
            "_model_module_version": "1.2.0",
            "_model_name": "LayoutModel",
            "_view_count": null,
            "_view_module": "@jupyter-widgets/base",
            "_view_module_version": "1.2.0",
            "_view_name": "LayoutView",
            "align_content": null,
            "align_items": null,
            "align_self": null,
            "border": null,
            "bottom": null,
            "display": null,
            "flex": null,
            "flex_flow": null,
            "grid_area": null,
            "grid_auto_columns": null,
            "grid_auto_flow": null,
            "grid_auto_rows": null,
            "grid_column": null,
            "grid_gap": null,
            "grid_row": null,
            "grid_template_areas": null,
            "grid_template_columns": null,
            "grid_template_rows": null,
            "height": null,
            "justify_content": null,
            "justify_items": null,
            "left": null,
            "margin": null,
            "max_height": null,
            "max_width": null,
            "min_height": null,
            "min_width": null,
            "object_fit": null,
            "object_position": null,
            "order": null,
            "overflow": null,
            "overflow_x": null,
            "overflow_y": null,
            "padding": null,
            "right": null,
            "top": null,
            "visibility": null,
            "width": null
          }
        },
        "b6b166e1930545a4ad46017b6eb6eac7": {
          "model_module": "@jupyter-widgets/base",
          "model_name": "LayoutModel",
          "model_module_version": "1.2.0",
          "state": {
            "_model_module": "@jupyter-widgets/base",
            "_model_module_version": "1.2.0",
            "_model_name": "LayoutModel",
            "_view_count": null,
            "_view_module": "@jupyter-widgets/base",
            "_view_module_version": "1.2.0",
            "_view_name": "LayoutView",
            "align_content": null,
            "align_items": null,
            "align_self": null,
            "border": null,
            "bottom": null,
            "display": null,
            "flex": null,
            "flex_flow": null,
            "grid_area": null,
            "grid_auto_columns": null,
            "grid_auto_flow": null,
            "grid_auto_rows": null,
            "grid_column": null,
            "grid_gap": null,
            "grid_row": null,
            "grid_template_areas": null,
            "grid_template_columns": null,
            "grid_template_rows": null,
            "height": null,
            "justify_content": null,
            "justify_items": null,
            "left": null,
            "margin": null,
            "max_height": null,
            "max_width": null,
            "min_height": null,
            "min_width": null,
            "object_fit": null,
            "object_position": null,
            "order": null,
            "overflow": null,
            "overflow_x": null,
            "overflow_y": null,
            "padding": null,
            "right": null,
            "top": null,
            "visibility": null,
            "width": null
          }
        },
        "7880d0b42919413ca7654117bc6ccfd8": {
          "model_module": "@jupyter-widgets/controls",
          "model_name": "DescriptionStyleModel",
          "model_module_version": "1.5.0",
          "state": {
            "_model_module": "@jupyter-widgets/controls",
            "_model_module_version": "1.5.0",
            "_model_name": "DescriptionStyleModel",
            "_view_count": null,
            "_view_module": "@jupyter-widgets/base",
            "_view_module_version": "1.2.0",
            "_view_name": "StyleView",
            "description_width": ""
          }
        },
        "bcb110ef2fac4e6eaaee02a8da72794e": {
          "model_module": "@jupyter-widgets/base",
          "model_name": "LayoutModel",
          "model_module_version": "1.2.0",
          "state": {
            "_model_module": "@jupyter-widgets/base",
            "_model_module_version": "1.2.0",
            "_model_name": "LayoutModel",
            "_view_count": null,
            "_view_module": "@jupyter-widgets/base",
            "_view_module_version": "1.2.0",
            "_view_name": "LayoutView",
            "align_content": null,
            "align_items": null,
            "align_self": null,
            "border": null,
            "bottom": null,
            "display": null,
            "flex": null,
            "flex_flow": null,
            "grid_area": null,
            "grid_auto_columns": null,
            "grid_auto_flow": null,
            "grid_auto_rows": null,
            "grid_column": null,
            "grid_gap": null,
            "grid_row": null,
            "grid_template_areas": null,
            "grid_template_columns": null,
            "grid_template_rows": null,
            "height": null,
            "justify_content": null,
            "justify_items": null,
            "left": null,
            "margin": null,
            "max_height": null,
            "max_width": null,
            "min_height": null,
            "min_width": null,
            "object_fit": null,
            "object_position": null,
            "order": null,
            "overflow": null,
            "overflow_x": null,
            "overflow_y": null,
            "padding": null,
            "right": null,
            "top": null,
            "visibility": null,
            "width": null
          }
        },
        "3f9ffec0be494b47959e372eebdc1d20": {
          "model_module": "@jupyter-widgets/controls",
          "model_name": "ProgressStyleModel",
          "model_module_version": "1.5.0",
          "state": {
            "_model_module": "@jupyter-widgets/controls",
            "_model_module_version": "1.5.0",
            "_model_name": "ProgressStyleModel",
            "_view_count": null,
            "_view_module": "@jupyter-widgets/base",
            "_view_module_version": "1.2.0",
            "_view_name": "StyleView",
            "bar_color": null,
            "description_width": ""
          }
        },
        "c03ddcf51c9448b4aa40e0c3c36f728e": {
          "model_module": "@jupyter-widgets/base",
          "model_name": "LayoutModel",
          "model_module_version": "1.2.0",
          "state": {
            "_model_module": "@jupyter-widgets/base",
            "_model_module_version": "1.2.0",
            "_model_name": "LayoutModel",
            "_view_count": null,
            "_view_module": "@jupyter-widgets/base",
            "_view_module_version": "1.2.0",
            "_view_name": "LayoutView",
            "align_content": null,
            "align_items": null,
            "align_self": null,
            "border": null,
            "bottom": null,
            "display": null,
            "flex": null,
            "flex_flow": null,
            "grid_area": null,
            "grid_auto_columns": null,
            "grid_auto_flow": null,
            "grid_auto_rows": null,
            "grid_column": null,
            "grid_gap": null,
            "grid_row": null,
            "grid_template_areas": null,
            "grid_template_columns": null,
            "grid_template_rows": null,
            "height": null,
            "justify_content": null,
            "justify_items": null,
            "left": null,
            "margin": null,
            "max_height": null,
            "max_width": null,
            "min_height": null,
            "min_width": null,
            "object_fit": null,
            "object_position": null,
            "order": null,
            "overflow": null,
            "overflow_x": null,
            "overflow_y": null,
            "padding": null,
            "right": null,
            "top": null,
            "visibility": null,
            "width": null
          }
        },
        "e2fca696118e46f9839d6f2e7130ad09": {
          "model_module": "@jupyter-widgets/controls",
          "model_name": "DescriptionStyleModel",
          "model_module_version": "1.5.0",
          "state": {
            "_model_module": "@jupyter-widgets/controls",
            "_model_module_version": "1.5.0",
            "_model_name": "DescriptionStyleModel",
            "_view_count": null,
            "_view_module": "@jupyter-widgets/base",
            "_view_module_version": "1.2.0",
            "_view_name": "StyleView",
            "description_width": ""
          }
        }
      }
    },
    "accelerator": "GPU"
  },
  "cells": [
    {
      "cell_type": "code",
      "source": [
        "!git clone https://github.com/sky4689524/DefenseGAN-Pytorch.git"
      ],
      "metadata": {
        "colab": {
          "base_uri": "https://localhost:8080/"
        },
        "id": "Q3iCNejtZNv1",
        "outputId": "3c9726f6-337e-424e-c50e-40b311a1d3f7"
      },
      "execution_count": null,
      "outputs": [
        {
          "output_type": "stream",
          "name": "stdout",
          "text": [
            "Cloning into 'DefenseGAN-Pytorch'...\n",
            "remote: Enumerating objects: 17, done.\u001b[K\n",
            "remote: Counting objects: 100% (17/17), done.\u001b[K\n",
            "remote: Compressing objects: 100% (12/12), done.\u001b[K\n",
            "remote: Total 17 (delta 4), reused 10 (delta 3), pack-reused 0\u001b[K\n",
            "Unpacking objects: 100% (17/17), done.\n"
          ]
        }
      ]
    },
    {
      "cell_type": "code",
      "source": [
        "%cd /content/DefenseGAN-Pytorch"
      ],
      "metadata": {
        "colab": {
          "base_uri": "https://localhost:8080/"
        },
        "id": "t1TtPlLgZVSp",
        "outputId": "9721436a-9e53-4cd0-aaf2-5bc91d4e381d"
      },
      "execution_count": null,
      "outputs": [
        {
          "output_type": "stream",
          "name": "stdout",
          "text": [
            "/content/DefenseGAN-Pytorch\n"
          ]
        }
      ]
    },
    {
      "cell_type": "code",
      "execution_count": null,
      "metadata": {
        "id": "HOK_xfurYVUV"
      },
      "outputs": [],
      "source": [
        "import numpy as np\n",
        "import torch\n",
        "import torchvision\n",
        "import torchvision.transforms as transforms\n",
        "import torch.optim as optim\n",
        "import torch.nn as nn\n",
        "from sklearn.model_selection import train_test_split\n",
        "from torch.utils.data.sampler import SubsetRandomSampler\n",
        "from torch.utils.data import DataLoader\n",
        "import os\n",
        "\n",
        "from model import CNN\n",
        "from torchsummary import summary\n",
        "import copy"
      ]
    },
    {
      "cell_type": "code",
      "source": [
        "batch_size = 32\n",
        "total_epoch = 50"
      ],
      "metadata": {
        "id": "1ojqEdUNZK3Z"
      },
      "execution_count": null,
      "outputs": []
    },
    {
      "cell_type": "code",
      "source": [
        "transform_train = transforms.Compose([\n",
        "    transforms.RandomCrop(32, padding=4),\n",
        "    transforms.RandomHorizontalFlip(),\n",
        "    transforms.ToTensor(),\n",
        "])\n",
        "\n",
        "# Normalize the test set same as training set without augmentation\n",
        "transform_test = transforms.Compose([\n",
        "    transforms.ToTensor(),\n",
        "])"
      ],
      "metadata": {
        "id": "_EGInFSOZXdr"
      },
      "execution_count": null,
      "outputs": []
    },
    {
      "cell_type": "code",
      "source": [
        "classes = ('plane', 'car', 'bird', 'cat', 'deer', \n",
        "           'dog', 'frog', 'horse', 'ship', 'truck')"
      ],
      "metadata": {
        "id": "DwWFMotyZax-"
      },
      "execution_count": null,
      "outputs": []
    },
    {
      "cell_type": "code",
      "source": [
        "trainset = torchvision.datasets.CIFAR10(\n",
        "    root='./data', train=True, download=True, transform=transform_train)\n",
        "\n",
        "train_indices, val_indices = train_test_split(np.arange(len(trainset)), test_size=0.2)\n",
        "\n",
        "train_sampler = SubsetRandomSampler(train_indices)\n",
        "valid_sampler = SubsetRandomSampler(val_indices)\n",
        "\n",
        "trainloader = DataLoader(\n",
        "    trainset,\n",
        "    batch_size=batch_size,\n",
        "    num_workers=4,\n",
        "    sampler=train_sampler\n",
        ")\n",
        "\n",
        "val_loader = DataLoader(\n",
        "    trainset,\n",
        "    batch_size=batch_size,\n",
        "    num_workers=4,\n",
        "    sampler=valid_sampler\n",
        ")\n",
        "\n",
        "testset = torchvision.datasets.CIFAR10(\n",
        "    root='./data', train=False, download=True, transform=transform_test)\n",
        "testloader = torch.utils.data.DataLoader(\n",
        "    testset, batch_size=batch_size, shuffle=False, num_workers=2)"
      ],
      "metadata": {
        "colab": {
          "base_uri": "https://localhost:8080/",
          "height": 154,
          "referenced_widgets": [
            "d9ebb75a418c4bf9bdc6338ab017704f",
            "dba2ec81f4cd42249c9d1e2be28f8acd",
            "416587279afb4549bdf23cdcbe4b4715",
            "caf06449b1874ec092f83afb4cd1ecdc",
            "8310a2b9baa64019840a678f41e701b4",
            "b6b166e1930545a4ad46017b6eb6eac7",
            "7880d0b42919413ca7654117bc6ccfd8",
            "bcb110ef2fac4e6eaaee02a8da72794e",
            "3f9ffec0be494b47959e372eebdc1d20",
            "c03ddcf51c9448b4aa40e0c3c36f728e",
            "e2fca696118e46f9839d6f2e7130ad09"
          ]
        },
        "id": "V--9RpmuZcDF",
        "outputId": "03721d4a-3c69-4ea8-da93-e803b03b075a"
      },
      "execution_count": null,
      "outputs": [
        {
          "output_type": "stream",
          "name": "stdout",
          "text": [
            "Downloading https://www.cs.toronto.edu/~kriz/cifar-10-python.tar.gz to ./data/cifar-10-python.tar.gz\n"
          ]
        },
        {
          "output_type": "display_data",
          "data": {
            "text/plain": [
              "  0%|          | 0/170498071 [00:00<?, ?it/s]"
            ],
            "application/vnd.jupyter.widget-view+json": {
              "version_major": 2,
              "version_minor": 0,
              "model_id": "d9ebb75a418c4bf9bdc6338ab017704f"
            }
          },
          "metadata": {}
        },
        {
          "output_type": "stream",
          "name": "stdout",
          "text": [
            "Extracting ./data/cifar-10-python.tar.gz to ./data\n"
          ]
        },
        {
          "output_type": "stream",
          "name": "stderr",
          "text": [
            "/usr/local/lib/python3.7/dist-packages/torch/utils/data/dataloader.py:566: UserWarning: This DataLoader will create 4 worker processes in total. Our suggested max number of worker in current system is 2, which is smaller than what this DataLoader is going to create. Please be aware that excessive worker creation might get DataLoader running slow or even freeze, lower the worker number to avoid potential slowness/freeze if necessary.\n",
            "  cpuset_checked))\n"
          ]
        },
        {
          "output_type": "stream",
          "name": "stdout",
          "text": [
            "Files already downloaded and verified\n"
          ]
        }
      ]
    },
    {
      "cell_type": "code",
      "source": [
        "train_size = len(train_sampler)\n",
        "val_size = len(valid_sampler)"
      ],
      "metadata": {
        "id": "EDRVyGeTZeSE"
      },
      "execution_count": null,
      "outputs": []
    },
    {
      "cell_type": "code",
      "source": [
        "print('length trainset : {}, testset : {}'.format(len(trainset), len(testset)))"
      ],
      "metadata": {
        "colab": {
          "base_uri": "https://localhost:8080/"
        },
        "id": "LjTKVT9DZgiy",
        "outputId": "db09a15a-30d5-4249-f362-dcdb7c067741"
      },
      "execution_count": null,
      "outputs": [
        {
          "output_type": "stream",
          "name": "stdout",
          "text": [
            "length trainset : 50000, testset : 10000\n"
          ]
        }
      ]
    },
    {
      "cell_type": "code",
      "source": [
        "import matplotlib.pyplot as plt\n",
        "import numpy as np\n",
        "\n",
        "# functions to show an image\n",
        "\n",
        "def imshow(img):\n",
        "    #img = img / 2 + 0.5     # unnormalize\n",
        "    npimg = img.numpy()\n",
        "    plt.imshow(np.transpose(npimg, (1, 2, 0)))\n",
        "    plt.show()\n",
        "\n",
        "\n",
        "# get some random training images\n",
        "dataiter = iter(testloader)\n",
        "images, labels = dataiter.next()\n",
        "\n",
        "# show images\n",
        "imshow(torchvision.utils.make_grid(images[:3]))\n",
        "# print labels\n",
        "print(' '.join('%10s' % classes[labels[j]] for j in range(3)))"
      ],
      "metadata": {
        "colab": {
          "base_uri": "https://localhost:8080/",
          "height": 183
        },
        "id": "I-W7AbGAZijz",
        "outputId": "2d02b6e7-5a9b-430e-af9c-26aaa4f4d0a1"
      },
      "execution_count": null,
      "outputs": [
        {
          "output_type": "display_data",
          "data": {
            "text/plain": [
              "<Figure size 432x288 with 1 Axes>"
            ],
            "image/png": "[encoded data removed]"
          },
          "metadata": {
            "needs_background": "light"
          }
        },
        {
          "output_type": "stream",
          "name": "stdout",
          "text": [
            "       cat       ship       ship\n"
          ]
        }
      ]
    },
    {
      "cell_type": "code",
      "source": [
        "# Send the model to GPU\n",
        "model = CNN()"
      ],
      "metadata": {
        "id": "RquUog68Zk2U"
      },
      "execution_count": null,
      "outputs": []
    },
    {
      "cell_type": "code",
      "source": [
        "criterion = nn.CrossEntropyLoss()\n",
        "optimizer = optim.SGD(model.parameters(), lr=0.001, momentum=0.9)"
      ],
      "metadata": {
        "id": "WtJDTzf1Zm2h"
      },
      "execution_count": null,
      "outputs": []
    },
    {
      "cell_type": "code",
      "source": [
        "device = torch.device(\"cuda:0\" if torch.cuda.is_available() else \"cpu\")"
      ],
      "metadata": {
        "id": "PODD66rmZoW1"
      },
      "execution_count": null,
      "outputs": []
    },
    {
      "cell_type": "code",
      "source": [
        "summary(model, input_size = (3,32,32), device = 'cpu')"
      ],
      "metadata": {
        "colab": {
          "base_uri": "https://localhost:8080/"
        },
        "id": "VqPBC07OZpoY",
        "outputId": "6717fc3c-ea98-42f9-fd31-ac2a56e7867e"
      },
      "execution_count": null,
      "outputs": [
        {
          "output_type": "stream",
          "name": "stdout",
          "text": [
            "----------------------------------------------------------------\n",
            "        Layer (type)               Output Shape         Param #\n",
            "================================================================\n",
            "            Conv2d-1           [-1, 32, 32, 32]             896\n",
            "       BatchNorm2d-2           [-1, 32, 32, 32]              64\n",
            "         LeakyReLU-3           [-1, 32, 32, 32]               0\n",
            "            Conv2d-4           [-1, 64, 32, 32]          18,496\n",
            "         LeakyReLU-5           [-1, 64, 32, 32]               0\n",
            "         AvgPool2d-6           [-1, 64, 16, 16]               0\n",
            "            Conv2d-7          [-1, 128, 16, 16]          73,856\n",
            "       BatchNorm2d-8          [-1, 128, 16, 16]             256\n",
            "         LeakyReLU-9          [-1, 128, 16, 16]               0\n",
            "           Conv2d-10          [-1, 128, 16, 16]         147,584\n",
            "        LeakyReLU-11          [-1, 128, 16, 16]               0\n",
            "        AvgPool2d-12            [-1, 128, 8, 8]               0\n",
            "           Conv2d-13            [-1, 256, 8, 8]         295,168\n",
            "      BatchNorm2d-14            [-1, 256, 8, 8]             512\n",
            "        LeakyReLU-15            [-1, 256, 8, 8]               0\n",
            "           Conv2d-16            [-1, 256, 8, 8]         590,080\n",
            "        LeakyReLU-17            [-1, 256, 8, 8]               0\n",
            "        AvgPool2d-18            [-1, 256, 4, 4]               0\n",
            "           Linear-19                 [-1, 1024]       4,195,328\n",
            "             ReLU-20                 [-1, 1024]               0\n",
            "           Linear-21                  [-1, 512]         524,800\n",
            "             ReLU-22                  [-1, 512]               0\n",
            "          Dropout-23                  [-1, 512]               0\n",
            "           Linear-24                   [-1, 10]           5,130\n",
            "================================================================\n",
            "Total params: 5,852,170\n",
            "Trainable params: 5,852,170\n",
            "Non-trainable params: 0\n",
            "----------------------------------------------------------------\n",
            "Input size (MB): 0.01\n",
            "Forward/backward pass size (MB): 3.87\n",
            "Params size (MB): 22.32\n",
            "Estimated Total Size (MB): 26.21\n",
            "----------------------------------------------------------------\n"
          ]
        }
      ]
    },
    {
      "cell_type": "code",
      "source": [
        "model = model.to(device)"
      ],
      "metadata": {
        "id": "NKLcfAcoZq6L"
      },
      "execution_count": null,
      "outputs": []
    },
    {
      "cell_type": "code",
      "source": [
        "model_folder = os.path.abspath('./checkpoints')\n",
        "if not os.path.exists(model_folder):\n",
        "    os.mkdir(model_folder)\n",
        "model_path = os.path.join(model_folder, 'cifar10.pth')"
      ],
      "metadata": {
        "id": "qWIdMSKHZsfc"
      },
      "execution_count": null,
      "outputs": []
    },
    {
      "cell_type": "code",
      "source": [
        "model.train()  # Set model to training mode\n",
        "\n",
        "train_loss = []\n",
        "train_acc = []\n",
        "val_loss = []\n",
        "val_acc = []\n",
        "\n",
        "best_acc = 0.0\n",
        "\n",
        "for epoch in range(total_epoch):\n",
        "\n",
        "    model.train()  # Set model to training mode\n",
        "    \n",
        "    running_loss = 0.0\n",
        "    running_corrects = 0.0\n",
        "    epoch_size = 0.0\n",
        "    \n",
        "    for batch_idx, (inputs, labels) in enumerate(trainloader):\n",
        "        \n",
        "        inputs = inputs.to(device)\n",
        "        labels = labels.to(device)\n",
        "\n",
        "        # zero the parameter gradients\n",
        "        optimizer.zero_grad()\n",
        "\n",
        "        # forward + backward + optimize\n",
        "        outputs = model(inputs)\n",
        "        loss = criterion(outputs, labels)\n",
        "        loss.backward()\n",
        "        \n",
        "        _, preds = torch.max(outputs, 1)\n",
        "\n",
        "        optimizer.step()\n",
        "\n",
        "        # print statistics\n",
        "        # statistics\n",
        "        running_loss += loss.item()\n",
        "        running_corrects += torch.sum(preds == labels.data)\n",
        "        \n",
        "        epoch_size += inputs.size(0)\n",
        "        \n",
        "    # Normalizing the loss by the total number of train batches\n",
        "    \n",
        "    running_loss /= epoch_size\n",
        "    running_corrects =  running_corrects.double() / epoch_size\n",
        "    \n",
        "    train_loss.append(running_loss)\n",
        "    train_acc.append(running_corrects)\n",
        "    \n",
        "    print('train Loss: {:.4f} Acc: {:.4f}'.format(running_loss, running_corrects))\n",
        "    \n",
        "    # evalute\n",
        "    print('Finished epoch {}, starting evaluation'.format(epoch+1))\n",
        "\n",
        "    model.eval()   # Set model to evaluate mode\n",
        "    \n",
        "    running_loss = 0.0\n",
        "    running_corrects = 0.0\n",
        "    epoch_size = 0.0\n",
        "    \n",
        "    with torch.no_grad():\n",
        "        for batch_idx, (inputs, labels) in enumerate(val_loader):\n",
        "            \n",
        "            inputs = inputs.to(device)\n",
        "            labels = labels.to(device)\n",
        "            \n",
        "            outputs = model(inputs)\n",
        "            loss = criterion(outputs, labels)\n",
        "\n",
        "            _, preds = torch.max(outputs, 1)\n",
        "\n",
        "            # statistics\n",
        "            running_loss += loss.item()\n",
        "            running_corrects += torch.sum(preds == labels.data)\n",
        "            \n",
        "            epoch_size += inputs.size(0)\n",
        "    \n",
        "    running_loss /= epoch_size\n",
        "    running_corrects =  running_corrects.double() / epoch_size\n",
        "    \n",
        "    print('Validation Loss: {:.4f} Acc: {:.4f}'.format(running_loss, running_corrects))\n",
        "    \n",
        "    val_loss.append(running_loss)\n",
        "    val_acc.append(running_corrects)\n",
        "    \n",
        "    # deep copy the model\n",
        "    if running_corrects > best_acc:\n",
        "        print(\"saving best model val_acc : {:.4f}\".format(running_corrects))\n",
        "        best_acc = running_corrects\n",
        "        \n",
        "        model_copy = copy.deepcopy(model)\n",
        "        model_copy = model_copy.cpu()\n",
        "        \n",
        "        model_state_dict = model_copy.state_dict()\n",
        "        torch.save(model_state_dict, model_path)\n",
        "\n",
        "        del model_copy\n",
        "\n",
        "print('==> Finished Training ...')"
      ],
      "metadata": {
        "colab": {
          "base_uri": "https://localhost:8080/"
        },
        "id": "gMWZT-TRZt2a",
        "outputId": "f4e7b6cb-55ce-47f7-c228-12b95dc9a03d"
      },
      "execution_count": null,
      "outputs": [
        {
          "output_type": "stream",
          "name": "stdout",
          "text": [
            "train Loss: 0.0569 Acc: 0.3184\n",
            "Finished epoch 1, starting evaluation\n",
            "Validation Loss: 0.0491 Acc: 0.4289\n",
            "saving best model val_acc : 0.4289\n",
            "train Loss: 0.0430 Acc: 0.4924\n",
            "Finished epoch 2, starting evaluation\n",
            "Validation Loss: 0.0487 Acc: 0.4720\n",
            "saving best model val_acc : 0.4720\n",
            "train Loss: 0.0352 Acc: 0.5947\n",
            "Finished epoch 3, starting evaluation\n",
            "Validation Loss: 0.0403 Acc: 0.5443\n",
            "saving best model val_acc : 0.5443\n",
            "train Loss: 0.0298 Acc: 0.6573\n",
            "Finished epoch 4, starting evaluation\n",
            "Validation Loss: 0.0311 Acc: 0.6485\n",
            "saving best model val_acc : 0.6485\n",
            "train Loss: 0.0265 Acc: 0.6995\n",
            "Finished epoch 5, starting evaluation\n",
            "Validation Loss: 0.0307 Acc: 0.6610\n",
            "saving best model val_acc : 0.6610\n",
            "train Loss: 0.0241 Acc: 0.7267\n",
            "Finished epoch 6, starting evaluation\n",
            "Validation Loss: 0.0252 Acc: 0.7150\n",
            "saving best model val_acc : 0.7150\n",
            "train Loss: 0.0221 Acc: 0.7507\n",
            "Finished epoch 7, starting evaluation\n",
            "Validation Loss: 0.0207 Acc: 0.7658\n",
            "saving best model val_acc : 0.7658\n",
            "train Loss: 0.0204 Acc: 0.7706\n",
            "Finished epoch 8, starting evaluation\n",
            "Validation Loss: 0.0204 Acc: 0.7713\n",
            "saving best model val_acc : 0.7713\n",
            "train Loss: 0.0191 Acc: 0.7857\n",
            "Finished epoch 9, starting evaluation\n",
            "Validation Loss: 0.0218 Acc: 0.7595\n",
            "train Loss: 0.0179 Acc: 0.8009\n",
            "Finished epoch 10, starting evaluation\n",
            "Validation Loss: 0.0198 Acc: 0.7826\n",
            "saving best model val_acc : 0.7826\n",
            "train Loss: 0.0169 Acc: 0.8109\n",
            "Finished epoch 11, starting evaluation\n",
            "Validation Loss: 0.0184 Acc: 0.7932\n",
            "saving best model val_acc : 0.7932\n",
            "train Loss: 0.0160 Acc: 0.8221\n",
            "Finished epoch 12, starting evaluation\n",
            "Validation Loss: 0.0182 Acc: 0.7950\n",
            "saving best model val_acc : 0.7950\n",
            "train Loss: 0.0152 Acc: 0.8330\n",
            "Finished epoch 13, starting evaluation\n",
            "Validation Loss: 0.0177 Acc: 0.8033\n",
            "saving best model val_acc : 0.8033\n",
            "train Loss: 0.0143 Acc: 0.8419\n",
            "Finished epoch 14, starting evaluation\n",
            "Validation Loss: 0.0158 Acc: 0.8270\n",
            "saving best model val_acc : 0.8270\n",
            "train Loss: 0.0136 Acc: 0.8490\n",
            "Finished epoch 15, starting evaluation\n",
            "Validation Loss: 0.0170 Acc: 0.8122\n",
            "train Loss: 0.0128 Acc: 0.8589\n",
            "Finished epoch 16, starting evaluation\n",
            "Validation Loss: 0.0146 Acc: 0.8385\n",
            "saving best model val_acc : 0.8385\n",
            "train Loss: 0.0124 Acc: 0.8620\n",
            "Finished epoch 17, starting evaluation\n",
            "Validation Loss: 0.0160 Acc: 0.8234\n",
            "train Loss: 0.0118 Acc: 0.8691\n",
            "Finished epoch 18, starting evaluation\n",
            "Validation Loss: 0.0151 Acc: 0.8389\n",
            "saving best model val_acc : 0.8389\n",
            "train Loss: 0.0113 Acc: 0.8759\n",
            "Finished epoch 19, starting evaluation\n",
            "Validation Loss: 0.0153 Acc: 0.8321\n",
            "train Loss: 0.0108 Acc: 0.8809\n",
            "Finished epoch 20, starting evaluation\n",
            "Validation Loss: 0.0151 Acc: 0.8341\n",
            "train Loss: 0.0102 Acc: 0.8874\n",
            "Finished epoch 21, starting evaluation\n",
            "Validation Loss: 0.0135 Acc: 0.8525\n",
            "saving best model val_acc : 0.8525\n",
            "train Loss: 0.0098 Acc: 0.8925\n",
            "Finished epoch 22, starting evaluation\n",
            "Validation Loss: 0.0144 Acc: 0.8449\n",
            "train Loss: 0.0094 Acc: 0.8952\n",
            "Finished epoch 23, starting evaluation\n",
            "Validation Loss: 0.0161 Acc: 0.8302\n",
            "train Loss: 0.0091 Acc: 0.8979\n",
            "Finished epoch 24, starting evaluation\n",
            "Validation Loss: 0.0142 Acc: 0.8461\n",
            "train Loss: 0.0088 Acc: 0.9005\n",
            "Finished epoch 25, starting evaluation\n",
            "Validation Loss: 0.0146 Acc: 0.8426\n",
            "train Loss: 0.0083 Acc: 0.9093\n",
            "Finished epoch 26, starting evaluation\n",
            "Validation Loss: 0.0135 Acc: 0.8537\n",
            "saving best model val_acc : 0.8537\n",
            "train Loss: 0.0081 Acc: 0.9097\n",
            "Finished epoch 27, starting evaluation\n",
            "Validation Loss: 0.0131 Acc: 0.8582\n",
            "saving best model val_acc : 0.8582\n",
            "train Loss: 0.0077 Acc: 0.9144\n",
            "Finished epoch 28, starting evaluation\n",
            "Validation Loss: 0.0145 Acc: 0.8489\n",
            "train Loss: 0.0074 Acc: 0.9170\n",
            "Finished epoch 29, starting evaluation\n",
            "Validation Loss: 0.0136 Acc: 0.8595\n",
            "saving best model val_acc : 0.8595\n",
            "train Loss: 0.0070 Acc: 0.9233\n",
            "Finished epoch 30, starting evaluation\n",
            "Validation Loss: 0.0125 Acc: 0.8678\n",
            "saving best model val_acc : 0.8678\n",
            "train Loss: 0.0068 Acc: 0.9239\n",
            "Finished epoch 31, starting evaluation\n",
            "Validation Loss: 0.0134 Acc: 0.8617\n",
            "train Loss: 0.0066 Acc: 0.9266\n",
            "Finished epoch 32, starting evaluation\n",
            "Validation Loss: 0.0145 Acc: 0.8515\n",
            "train Loss: 0.0062 Acc: 0.9308\n",
            "Finished epoch 33, starting evaluation\n",
            "Validation Loss: 0.0136 Acc: 0.8600\n",
            "train Loss: 0.0061 Acc: 0.9319\n",
            "Finished epoch 34, starting evaluation\n",
            "Validation Loss: 0.0144 Acc: 0.8543\n",
            "train Loss: 0.0060 Acc: 0.9317\n",
            "Finished epoch 35, starting evaluation\n",
            "Validation Loss: 0.0133 Acc: 0.8644\n",
            "train Loss: 0.0056 Acc: 0.9371\n",
            "Finished epoch 36, starting evaluation\n",
            "Validation Loss: 0.0137 Acc: 0.8679\n",
            "saving best model val_acc : 0.8679\n",
            "train Loss: 0.0054 Acc: 0.9414\n",
            "Finished epoch 37, starting evaluation\n",
            "Validation Loss: 0.0120 Acc: 0.8738\n",
            "saving best model val_acc : 0.8738\n",
            "train Loss: 0.0052 Acc: 0.9427\n",
            "Finished epoch 38, starting evaluation\n",
            "Validation Loss: 0.0137 Acc: 0.8698\n",
            "train Loss: 0.0050 Acc: 0.9452\n",
            "Finished epoch 39, starting evaluation\n",
            "Validation Loss: 0.0145 Acc: 0.8565\n",
            "train Loss: 0.0048 Acc: 0.9456\n",
            "Finished epoch 40, starting evaluation\n",
            "Validation Loss: 0.0147 Acc: 0.8578\n",
            "train Loss: 0.0046 Acc: 0.9485\n",
            "Finished epoch 41, starting evaluation\n",
            "Validation Loss: 0.0142 Acc: 0.8689\n",
            "train Loss: 0.0046 Acc: 0.9474\n",
            "Finished epoch 42, starting evaluation\n",
            "Validation Loss: 0.0125 Acc: 0.8775\n",
            "saving best model val_acc : 0.8775\n",
            "train Loss: 0.0043 Acc: 0.9521\n",
            "Finished epoch 43, starting evaluation\n",
            "Validation Loss: 0.0157 Acc: 0.8516\n",
            "train Loss: 0.0042 Acc: 0.9526\n",
            "Finished epoch 44, starting evaluation\n",
            "Validation Loss: 0.0136 Acc: 0.8702\n",
            "train Loss: 0.0040 Acc: 0.9547\n",
            "Finished epoch 45, starting evaluation\n",
            "Validation Loss: 0.0143 Acc: 0.8655\n",
            "train Loss: 0.0039 Acc: 0.9568\n",
            "Finished epoch 46, starting evaluation\n",
            "Validation Loss: 0.0129 Acc: 0.8762\n",
            "train Loss: 0.0039 Acc: 0.9564\n",
            "Finished epoch 47, starting evaluation\n",
            "Validation Loss: 0.0140 Acc: 0.8731\n",
            "train Loss: 0.0036 Acc: 0.9588\n",
            "Finished epoch 48, starting evaluation\n",
            "Validation Loss: 0.0149 Acc: 0.8638\n",
            "train Loss: 0.0035 Acc: 0.9612\n",
            "Finished epoch 49, starting evaluation\n",
            "Validation Loss: 0.0150 Acc: 0.8683\n",
            "train Loss: 0.0034 Acc: 0.9622\n",
            "Finished epoch 50, starting evaluation\n",
            "Validation Loss: 0.0136 Acc: 0.8732\n",
            "==> Finished Training ...\n"
          ]
        }
      ]
    },
    {
      "cell_type": "code",
      "source": [
        "hist = [h for h in val_loss]\n",
        "hist2 = [h for h in train_loss]\n",
        "\n",
        "plt.title(\"train vs Validation loss\")\n",
        "plt.xlabel(\"Training Epochs\")\n",
        "plt.ylabel(\"Accuracy\")\n",
        "plt.plot(range(1,len(val_loss)+1),hist,label=\"Validation\")\n",
        "plt.plot(range(1,len(train_loss)+1),hist2,label=\"Train\")\n",
        "plt.ylim((0,0.08))\n",
        "plt.xticks(np.arange(1, len(train_loss)+1, 2))\n",
        "plt.legend()\n",
        "plt.show()"
      ],
      "metadata": {
        "id": "xjs0ysqlZwrH",
        "colab": {
          "base_uri": "https://localhost:8080/",
          "height": 295
        },
        "outputId": "47d150af-15c5-4343-a2c7-ce2fe70f1fdd"
      },
      "execution_count": null,
      "outputs": [
        {
          "output_type": "display_data",
          "data": {
            "text/plain": [
              "<Figure size 432x288 with 1 Axes>"
            ],
            "image/png": "[encoded data removed]"
          },
          "metadata": {
            "needs_background": "light"
          }
        }
      ]
    },
    {
      "cell_type": "code",
      "source": [],
      "metadata": {
        "id": "LNAhDinm8tc0"
      },
      "execution_count": null,
      "outputs": []
    }
  ]
}